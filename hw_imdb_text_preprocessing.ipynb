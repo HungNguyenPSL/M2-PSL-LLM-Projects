{
  "cells": [
    {
      "cell_type": "code",
      "execution_count": null,
      "metadata": {
        "id": "s-8ltYHfbs5B"
      },
      "outputs": [],
      "source": [
        "import pandas as pd\n",
        "from google_drive_downloader import GoogleDriveDownloader as gdd\n",
        "from pathlib import Path\n",
        "from typing import List, Dict\n",
        "from tqdm.notebook import tqdm\n",
        "import numpy as np\n",
        "import matplotlib.pyplot as plt\n",
        "import random\n",
        "import string"
      ]
    },
    {
      "cell_type": "markdown",
      "metadata": {
        "id": "laDowDK-m6Ag"
      },
      "source": [
        "# HW Instructions\n",
        "\n",
        "## 🚧 Cells\n",
        "All the cells identified with a 🚧 should be completed, either by a code or an written answer.\n",
        "You can add as many cells as you want, but in general cells are already in place.\n",
        "\n",
        "\n",
        "🚧 **TODO** 🚧\n",
        "\n",
        "*Requires to complete a code (can be completed with optional text cells if you find it relevant).*\n",
        "\n",
        "or\n",
        "\n",
        "🚧 **Question** 🚧\n",
        "\n",
        "*Requires a written answer (can be completed with optional code cells if you find it relevant).*\n",
        "\n",
        "## 🔴 Test cells\n",
        "Cells identified with 🔴 should be left untouched and shouldn't return any error.\n",
        "\n",
        "## Presentation\n",
        "The overall presentation of the notebook will account in the grading process.\n",
        "Some advice:\n",
        "- Give title to your figures.\n",
        "- Put legends on the figures.\n",
        "- Comment the figures if they are not self-explanatory.\n",
        "- Add comment in the code if not self-explanatory.\n",
        "- Review your notebook before submitting.\n",
        "- Feel free to add any additional illustration if you find it will bring something.\n",
        "- Remain as concise as possible when answering written answer, emphasize the important points.\n",
        "\n",
        "**We cannot debug every notebooks. The notebook should run entirely from the start to the end without any error. If one cell returns an error during the execution, only the cells before the error will be graded.**\n",
        "\n"
      ]
    },
    {
      "cell_type": "markdown",
      "metadata": {
        "id": "PaBJpPWfW45L"
      },
      "source": [
        "# HW Introduction\n",
        "\n",
        "## Hands on with NLP preprocessing\n",
        "\n",
        "This first TP is here to make you experiment with the first preprocessing steps, necessary but often not emphasized enough.\n",
        "\n",
        "## Plan\n",
        "\n",
        "1. Load the data\n",
        "2. Analyze and clean the text data\n",
        "3. Format the texts for NLP (i.e. tokenize, etc).\n",
        "\n",
        "## Notations\n",
        "\n",
        "Throughout the HW, a text will be called either **document** or **text**.\n",
        "\n",
        "\n",
        "# I - Data loading"
      ]
    },
    {
      "cell_type": "code",
      "execution_count": null,
      "metadata": {
        "id": "Eri6thqeX_MC"
      },
      "outputs": [],
      "source": [
        "def download_imdb(output_path: str, force_download: bool = False):\n",
        "    \"\"\"Save the data to `output_path`.\"\"\"\n",
        "    output_path = Path(output_path)\n",
        "    if (not output_path.is_file()) or force_download:\n",
        "        gdd.download_file_from_google_drive(\n",
        "            file_id=\"1zfM5E6HvKIe7f3rEt1V2gBpw5QOSSKQz\",\n",
        "            dest_path=output_path,\n",
        "        )\n",
        "    return"
      ]
    },
    {
      "cell_type": "code",
      "execution_count": null,
      "metadata": {
        "id": "BJ9S1a1jW45M"
      },
      "outputs": [],
      "source": [
        "DATA_PATH = \"data/imdb_reviews.csv\"\n",
        "download_imdb(output_path=DATA_PATH, force_download=False)"
      ]
    },
    {
      "cell_type": "markdown",
      "metadata": {
        "id": "NGT4vDXmZDTT"
      },
      "source": [
        "🚧 **TODO** 🚧\n",
        "\n",
        "Read the file to a Pandas dataframe (the file is stored as a csv). Make sure the \"review\" field is of dtype `string` and label of dtype `int`.\n",
        "\n",
        "Hint: https://pandas.pydata.org/docs/user_guide/text.html (you can specify the `dtype` argument of pandas constructor).\n"
      ]
    },
    {
      "cell_type": "code",
      "execution_count": null,
      "metadata": {
        "id": "gbQw5TGPha20"
      },
      "outputs": [],
      "source": [
        "dtype = {'review': str, 'label': int}\n",
        "df_imdb = pd.read_csv(DATA_PATH, dtype=dtype)\n",
        "df_imdb[\"review\"] = df_imdb[\"review\"].astype(\"string\")"
      ]
    },
    {
      "cell_type": "code",
      "execution_count": null,
      "metadata": {
        "id": "CAv44K5tpMHF"
      },
      "outputs": [],
      "source": [
        "text_column = df_imdb[\"review\"]\n",
        "label_column = df_imdb[\"label\"]"
      ]
    },
    {
      "cell_type": "markdown",
      "metadata": {
        "id": "hqaE3bBDpPVK"
      },
      "source": [
        "🔴 **TEST**"
      ]
    },
    {
      "cell_type": "code",
      "execution_count": null,
      "metadata": {
        "id": "-gMHYuJHcQB5"
      },
      "outputs": [],
      "source": [
        "assert text_column.dtype == \"string\"\n",
        "assert label_column.dtype == int"
      ]
    },
    {
      "cell_type": "markdown",
      "metadata": {
        "id": "EMTjOSWEbM6Q"
      },
      "source": [
        "🚧 **TODO** 🚧\n",
        "\n",
        "Print some values of the dataframe.\n",
        "- Print 3 samples of text.\n",
        "- Print their associated labels.\n",
        "- Print some statistics of the dataset.\n",
        "\n"
      ]
    },
    {
      "cell_type": "code",
      "execution_count": null,
      "metadata": {
        "id": "-aQ0d6IIgRO_",
        "colab": {
          "base_uri": "https://localhost:8080/"
        },
        "outputId": "7bae1e9f-4ea9-4fa6-c37e-53f587758c5d"
      },
      "outputs": [
        {
          "output_type": "stream",
          "name": "stdout",
          "text": [
            "==== 3 first texts ====\n",
            "Once again Mr. Costner has dragged out a movie for far longer than necessary. Aside from the terrific sea rescue sequences, of which there are very few I just did not care about any of the characters. Most of us have ghosts in the closet, and Costner's character are realized early on, and then forgotten until much later, by which time I did not care. The character we should really care about is a very cocky, overconfident Ashton Kutcher. The problem is he comes off as kid who thinks he's better than anyone else around him and shows no signs of a cluttered closet. His only obstacle appears to be winning over Costner. Finally when we are well past the half way point of this stinker, Costner tells us all about Kutcher's ghosts. We are told why Kutcher is driven to be the best with no prior inkling or foreshadowing. No magic here, it was all I could do to keep from turning it off an hour in.\n",
            "\n",
            "\n",
            "This is an example of why the majority of action films are the same. Generic and boring, there's really nothing worth watching here. A complete waste of the then barely-tapped talents of Ice-T and Ice Cube, who've each proven many times over that they are capable of acting, and acting well. Don't bother with this one, go see New Jack City, Ricochet or watch New York Undercover for Ice-T, or Boyz n the Hood, Higher Learning or Friday for Ice Cube and see the real deal. Ice-T's horribly cliched dialogue alone makes this film grate at the teeth, and I'm still wondering what the heck Bill Paxton was doing in this film? And why the heck does he always play the exact same character? From Aliens onward, every film I've seen with Bill Paxton has him playing the exact same irritating character, and at least in Aliens his character died, which made it somewhat gratifying...<br /><br />Overall, this is second-rate action trash. There are countless better films to see, and if you really want to see this one, watch Judgement Night, which is practically a carbon copy but has better acting and a better script. The only thing that made this at all worth watching was a decent hand on the camera - the cinematography was almost refreshing, which comes close to making up for the horrible film itself - but not quite. 4/10.\n",
            "\n",
            "\n",
            "First of all I hate those moronic rappers, who could'nt act if they had a gun pressed against their foreheads. All they do is curse and shoot each other and acting like clichÃ©'e version of gangsters.<br /><br />The movie doesn't take more than five minutes to explain what is going on before we're already at the warehouse There is not a single sympathetic character in this movie, except for the homeless guy, who is also the only one with half a brain.<br /><br />Bill Paxton and William Sadler are both hill billies and Sadlers character is just as much a villain as the gangsters. I did'nt like him right from the start.<br /><br />The movie is filled with pointless violence and Walter Hills specialty: people falling through windows with glass flying everywhere. There is pretty much no plot and it is a big problem when you root for no-one. Everybody dies, except from Paxton and the homeless guy and everybody get what they deserve.<br /><br />The only two black people that can act is the homeless guy and the junkie but they're actors by profession, not annoying ugly brain dead rappers.<br /><br />Stay away from this crap and watch 48 hours 1 and 2 instead. At lest they have characters you care about, a sense of humor and nothing but real actors in the cast.\n",
            "\n",
            "\n",
            "\n",
            "==== Associated labels of the 3 first texts ====\n",
            "0\n",
            "0\n",
            "0\n",
            "\n",
            "=== Dataset statistics ===\n",
            "Number of texts\n",
            "62155\n",
            "\n",
            "Average text length (in characters)\n",
            "1374.0382431019227\n",
            "\n",
            "% of positive texts\n",
            "49.66615718767597\n"
          ]
        }
      ],
      "source": [
        "print(\"==== 3 first texts ====\")\n",
        "for text in text_column[:3]:\n",
        "    print(text)\n",
        "    print(\"\\n\")\n",
        "\n",
        "\n",
        "print(\"\\n==== Associated labels of the 3 first texts ====\")\n",
        "for label in label_column[:3]:\n",
        "    print(label)\n",
        "\n",
        "\n",
        "print(\"\\n=== Dataset statistics ===\")\n",
        "print(\"Number of texts\")\n",
        "print(len(text_column))\n",
        "\n",
        "\n",
        "print(\"\\nAverage text length (in characters)\")\n",
        "print(text_column.apply(len).mean())\n",
        "\n",
        "\n",
        "print(\"\\n% of positive texts\")\n",
        "positive_pourcentage = (label_column.sum() / len(label_column)) * 100\n",
        "print(positive_pourcentage)"
      ]
    },
    {
      "cell_type": "markdown",
      "metadata": {
        "id": "ON1bQK5jhz4E"
      },
      "source": [
        "## II - Clean and format the data.\n",
        "For this first TP, we want to focus on very simple tasks.\n",
        "Therefore, we want to avoid as much as possible rare and uncommon words that will be considered as outliers.\n",
        "\n",
        "We will try to figure out what kind of cleaning we can perform, by having a look at the data.\n",
        "\n",
        "The plan for this part will be:\n",
        "1. Split the strings as a list of words.\n",
        "2. Find the outliers in the corpus.\n",
        "3. Propose some methods to clean them."
      ]
    },
    {
      "cell_type": "markdown",
      "metadata": {
        "id": "5XLRgi5giy_g"
      },
      "source": [
        "### 1. Tokenization\n",
        "First, we will split our texts into words.\n",
        "Splitting a string into a list of smaller substrings is called **tokenization**, and the substrings are called **tokens**.\n",
        "\n",
        "The simplest way to tokenize a text is to split it by words, according to whitespaces.\n",
        "\n",
        "Then, each word encountered in the training set is stored and uniquely identified through an id.\n",
        "\n"
      ]
    },
    {
      "cell_type": "markdown",
      "metadata": {
        "id": "H-HLOTivIfSP"
      },
      "source": [
        "🚧 **Question** 🚧\n",
        "\n",
        "By doing so, we put a huge emphasis on words within documents.\n",
        "\n",
        "a) Intuitively, why is it relevant? For instance compare to splitting by character.\n",
        "\n",
        "b) Cite some methods discussed during the course that rely on word-based representations of documents.\n",
        "\n",
        "**Answer**\n",
        "\n",
        "**a)**\n",
        "\n",
        "Segmenting text into words makes sense because words, as the basic units of language, carry rich semantic information. Splitting by words better captures the meaning and context of text than splitting by characters.\n",
        "\n",
        "**b)**\n",
        "1. Bag of Words  : Represents text as a collection of words, ignoring order and syntax, and the occurrence of each word is treated as a feature.\n",
        "\n",
        "2. Word Embeddings : Map words into a multi-dimensional space so that semantically similar words are close in this space.\n",
        "\n",
        "3. Convolutional Neural Networks : CNNs capture local patterns and semantics by applying filters on word embeddings, aiding in structure and meaning recognition.\n"
      ]
    },
    {
      "cell_type": "markdown",
      "metadata": {
        "id": "jYwJDXAUIc7C"
      },
      "source": [
        "🚧 **TODO** 🚧\n",
        "\n",
        "Implement a tokenizer based on whitespace splitting. For now, the tokenizer should only be able to store each unique word found in the dataset."
      ]
    },
    {
      "cell_type": "code",
      "execution_count": null,
      "metadata": {
        "id": "791KTHn9W45N"
      },
      "outputs": [],
      "source": [
        "class WhiteSpaceTokenizer:\n",
        "    def __init__(self):\n",
        "        # The vocabulary will store the mapping between text tokens and their id.\n",
        "        self.vocab = {}\n",
        "        self.id_to_token = {}\n",
        "\n",
        "        # We will keep track of the number of times a word appears in the corpus.\n",
        "        self.frequencies = {}\n",
        "\n",
        "    def split_text(self, text: str) -> List[str]:\n",
        "        \"\"\"Converts the text to a list of tokens (substrings).\"\"\"\n",
        "        # TODO\n",
        "        list_tokens = text.split()\n",
        "        return list_tokens\n",
        "\n",
        "    def fit(self, corpus: List[str]):\n",
        "        \"\"\"Fits the tokenizer to a list of texts to construct its vocabulary.\"\"\"\n",
        "        current_id = 0\n",
        "        for text in tqdm(corpus):\n",
        "\n",
        "            # Split into substrings.\n",
        "            list_tokens = self.split_text(text)\n",
        "\n",
        "            for token in list_tokens:\n",
        "\n",
        "                # Add the token to the vocabulary\n",
        "                token_id = self.vocab.get(token, None)\n",
        "\n",
        "                token_not_in_vocab = token_id is None\n",
        "                if token_not_in_vocab:\n",
        "                    self.vocab[token] = current_id#TODO\n",
        "                    self.id_to_token[current_id] = token#TODO\n",
        "                    self.frequencies[current_id] = 0\n",
        "                    token_id = current_id\n",
        "                    current_id += 1\n",
        "\n",
        "                self.frequencies[token_id] += 1\n",
        "\n",
        "        # Total number of words in vocab.\n",
        "        self.num_words = len(self.vocab)#TODO\n",
        "        print(f\"Built a vocabulary of {self.num_words} words.\")"
      ]
    },
    {
      "cell_type": "markdown",
      "metadata": {
        "id": "geTlVAEGpa4n"
      },
      "source": [
        "🔴 **TEST**"
      ]
    },
    {
      "cell_type": "code",
      "execution_count": null,
      "metadata": {
        "id": "joZuRcZ7nc3N",
        "colab": {
          "base_uri": "https://localhost:8080/",
          "height": 66,
          "referenced_widgets": [
            "fac5c2d37a82432d93cf4fcb07568043",
            "15da5cf4eb644c159f2a9ea3d0a15d65",
            "50e58256f6bf4a9688646090fef02bdc",
            "c851d08025f3433c9bb554a3410f66ff",
            "d17883ef09564812ae80c16122f74df1",
            "bca0eaa82fd44556af3642edc8f25097",
            "690c559c6a084bbd80c0526c5905389d",
            "89c744fb8a324308a9fbf6e71dec9b1c",
            "d4b07d90d73d4bc8957f7f5fd3316a43",
            "466baf93b992461ab02d9addfce6ca0e",
            "9ee4a40d87dd4b12aefba4a5ce2a8673"
          ]
        },
        "outputId": "118d591a-db82-4a15-ae5e-991637c5d773"
      },
      "outputs": [
        {
          "output_type": "display_data",
          "data": {
            "text/plain": [
              "  0%|          | 0/2 [00:00<?, ?it/s]"
            ],
            "application/vnd.jupyter.widget-view+json": {
              "version_major": 2,
              "version_minor": 0,
              "model_id": "fac5c2d37a82432d93cf4fcb07568043"
            }
          },
          "metadata": {}
        },
        {
          "output_type": "stream",
          "name": "stdout",
          "text": [
            "Built a vocabulary of 3 words.\n"
          ]
        }
      ],
      "source": [
        "toy_corpus = [\"a cat\", \"a dog\"]\n",
        "tokenizer = WhiteSpaceTokenizer()\n",
        "tokenizer.fit(toy_corpus)\n",
        "assert tokenizer.vocab == {\"a\": 0, \"cat\": 1, \"dog\": 2}\n",
        "assert tokenizer.frequencies == {0: 2, 1: 1, 2: 1}\n",
        "assert tokenizer.num_words == 3"
      ]
    },
    {
      "cell_type": "markdown",
      "metadata": {
        "id": "fct0L_9EoGWT"
      },
      "source": [
        "🚧 **TODO** 🚧\n",
        "\n",
        "Fits the tokenizer on the imdb reviews."
      ]
    },
    {
      "cell_type": "code",
      "execution_count": null,
      "metadata": {
        "id": "59qiHgwmmcfB",
        "colab": {
          "base_uri": "https://localhost:8080/",
          "height": 66,
          "referenced_widgets": [
            "b5220f0ceb3f4699b9d9eecf88f0fa24",
            "fbbd28eed0674027b72ae17061d050e9",
            "916bbbbe087f4d29b34951633b0bb379",
            "ec372819dc8e40e58196dabaab7001ad",
            "84984de2e1934a11b3106deda13fcb9f",
            "dd827142df944258a954d569a45244e9",
            "2307c63044be4052b9fca6dc3e72a682",
            "13be9cdc64194793ae8ed7466830677e",
            "f0002312329b4315889541b3df6b003e",
            "97ba3a770b164c7c81495a2c3d0f2d2a",
            "24109de38ed34ebc8a037054d7b6231c"
          ]
        },
        "outputId": "43e93ade-1c82-4fc9-9b03-21ec2ef4a307"
      },
      "outputs": [
        {
          "output_type": "display_data",
          "data": {
            "text/plain": [
              "  0%|          | 0/62155 [00:00<?, ?it/s]"
            ],
            "application/vnd.jupyter.widget-view+json": {
              "version_major": 2,
              "version_minor": 0,
              "model_id": "b5220f0ceb3f4699b9d9eecf88f0fa24"
            }
          },
          "metadata": {}
        },
        {
          "output_type": "stream",
          "name": "stdout",
          "text": [
            "Built a vocabulary of 474682 words.\n"
          ]
        }
      ],
      "source": [
        "# TODO\n",
        "# Create a WhiteSpaceTokenizer object\n",
        "tokenizer = WhiteSpaceTokenizer()\n",
        "\n",
        "# Fit the tokenizer to the IMDb reviews dataset\n",
        "tokenizer.fit(df_imdb[\"review\"])#.tolist())\n"
      ]
    },
    {
      "cell_type": "markdown",
      "metadata": {
        "id": "LHBeN-x-2fhB"
      },
      "source": [
        "### 2. Noise analysis"
      ]
    },
    {
      "cell_type": "markdown",
      "metadata": {
        "id": "3H-GBNNVobV8"
      },
      "source": [
        "🚧 **TODO** 🚧\n",
        "\n",
        "Print 50 random tokens."
      ]
    },
    {
      "cell_type": "code",
      "execution_count": null,
      "metadata": {
        "id": "AI2knE7em9HT",
        "colab": {
          "base_uri": "https://localhost:8080/"
        },
        "outputId": "7f94721a-967c-4b36-d736-e0f7484adbd4"
      },
      "outputs": [
        {
          "output_type": "stream",
          "name": "stdout",
          "text": [
            "['worthing', 'idiotic:', 'LIFE!!!!!!!!!!!!!!!!!', 'maybe).John', '\"Raiders..\",', '(Farnsworth)', 'perfomances', '\"loveable', 'Useless.', 'materialized', '\"Poopchev\"', 'deputize', 'TGWWT', 'sleigh.', 'foe.', 'saner', '\\\\\"Direct', 'incantation', 'snobbery', '/>10', 'battleship)', 'Movement', 'Hessling,', 'trap\"', '/>Thriller', 'Yey!', \"'flashback'\", 'vampirelady', '/>PAT', 'Truffles.', 'low-frequency', \"'Deaf\", 'scoundrel.', 'Changed', '\"Belle-Maman\"', 'Sketches', 'yeah.<br', 'film,that', 'contemplative.', '(\\\\\"...who', '/>\"Family', \"Freleng's\", 'stewardesses)', 'Spooks,', 'poignancy.', 'passport.', 'Chopin.', 'CHALICE)', 'maritally', 'Fury\".']\n"
          ]
        }
      ],
      "source": [
        "# TODO\n",
        "tokens = list(tokenizer.vocab)\n",
        "\n",
        "# Shuffle the list of tokens.\n",
        "random.shuffle(tokens)\n",
        "\n",
        "# Print the first 50 tokens.\n",
        "print(tokens[:50])\n"
      ]
    },
    {
      "cell_type": "markdown",
      "source": [
        "🚧 **QUESTION** 🚧\n",
        "\n",
        "What do you think of the tokens? Do they look like simple \"words\" as expected?\n",
        "\n",
        "Analyze the noise and explain why we got such weird vocabulary.\n",
        "\n",
        "**Answer**\n",
        "\n",
        "1. a)  As you can see from the 50 random tokens we printed out, they contain a mix of uppercase and lowercase letters, as well as many symbols and special characters that we may not want to include in our vocabulary, such as exclamation marks, question marks, and angle brackets, etc.\n",
        "\n",
        "   b) These are not simple words, but more like word combinations or fragments with punctuation and special characters.\n",
        "   \n",
        "   \n",
        "2. a) Presence of Punctuation and Special Characters.('-,?,\\')\n",
        "\n",
        "   b) Inclusion of HTML Tags.('&lt;br&gt;')\n",
        "   \n",
        "   c) Insufficient Text Preprocessing('A,a')."
      ],
      "metadata": {
        "id": "7rxHus8RxZOT"
      }
    },
    {
      "cell_type": "markdown",
      "metadata": {
        "id": "bbt1bQ2SsK4l"
      },
      "source": [
        "### 3. Cleaning\n",
        "\n",
        "🚧 **TODO** 🚧\n",
        "\n",
        "You are going to implement some of the classical cleaning methods.\n",
        "1. Lower case the string.\n",
        "2. String normalization, i.e., replace accentuated characters by standard version (\"â -> a\") (hint: https://stackoverflow.com/a/14121678).\n",
        "3. Remove non alpha-numeric characters (use Python regex package `re`).\n",
        "4. Replace numeric characters by the token `'<NUM>'` (use the package `re`).\n",
        "5. Remove double whitespaces (use the package `re`).\n"
      ]
    },
    {
      "cell_type": "code",
      "execution_count": null,
      "metadata": {
        "id": "orSU21XPfBhL"
      },
      "outputs": [],
      "source": [
        "import unicodedata\n",
        "import re"
      ]
    },
    {
      "cell_type": "code",
      "execution_count": null,
      "metadata": {
        "id": "Y5EqoG1dsWMv"
      },
      "outputs": [],
      "source": [
        "def preprocess_text(text: str) -> str:\n",
        "    if isinstance(text, bytes):\n",
        "      text = text.decode(\"utf-8\")\n",
        "\n",
        "    # TODO lower case\n",
        "    text = text.lower()\n",
        "\n",
        "    # TODO string normalization.\n",
        "    text = unicodedata.normalize(\"NFD\", text)\n",
        "    text = re.sub(r\"[^\\x00-\\x7F]\", \"\", text)\n",
        "\n",
        "\n",
        "    # TODO remove non alpha numeric characters.\n",
        "    text = re.sub(r\"[^\\w\\s]\", \" \", text)\n",
        "\n",
        "    # Replace numbers by the <NUM> token\n",
        "    text = re.sub(r\"\\d+\", \"<NUM>\", text)\n",
        "\n",
        "    # TODO remove double whitespaces.\n",
        "    #text = re.sub(r\"\\s+\", \" \", text)\n",
        "    text = re.sub(r\"\\s+\", \" \", text).strip()\n",
        "    text = re.sub(r\"\\.\\s+\", \".\", text)\n",
        "\n",
        "    return text\n"
      ]
    },
    {
      "cell_type": "markdown",
      "metadata": {
        "id": "yiAbpQrbptvH"
      },
      "source": [
        "🔴 **TEST**"
      ]
    },
    {
      "cell_type": "code",
      "execution_count": null,
      "metadata": {
        "id": "cfmJ1GDzy7-f"
      },
      "outputs": [],
      "source": [
        "noisy_text = \"Ï   lîved  in    San-Françisco...  ! for 12 years.\"\n",
        "clean_text = \"i lived in san francisco for <NUM> years\"\n",
        "preprocess_text(noisy_text)\n",
        "assert preprocess_text(noisy_text) == clean_text"
      ]
    },
    {
      "cell_type": "markdown",
      "metadata": {
        "id": "LkO-jZPY0mDy"
      },
      "source": [
        "🚧 **TODO** 🚧\n",
        "\n",
        "Add column `clean_review` to the dataframe, with the clean text.\n",
        "\n",
        "Store the `clean_review` column to the variable `clean_column`."
      ]
    },
    {
      "cell_type": "code",
      "execution_count": null,
      "metadata": {
        "id": "tMO7SaQO0uSr",
        "colab": {
          "base_uri": "https://localhost:8080/"
        },
        "outputId": "82c3e040-0d64-4333-ada2-5ae68c560700"
      },
      "outputs": [
        {
          "output_type": "stream",
          "name": "stdout",
          "text": [
            "0     once again mr costner has dragged out a movie ...\n",
            "1     this is an example of why the majority of acti...\n",
            "2     first of all i hate those moronic rappers who ...\n",
            "3     not even the beatles could write songs everyon...\n",
            "4     brass pictures movies is not a fitting word fo...\n",
            "5     a funny thing happened to me while watching mo...\n",
            "6     this german horror film has to be one of the w...\n",
            "7     being a long time fan of japanese film i expec...\n",
            "8     tokyo eyes tells of a <NUM> year old japanese ...\n",
            "9     wealthy horse ranchers in buenos aires have a ...\n",
            "10    cage plays a drunk and gets high critically pr...\n",
            "11    first of all i would like to say that i am a f...\n",
            "12    so tell me what serious boozer drinks budweise...\n",
            "13    a big disappointment for what was touted as an...\n",
            "14    this film is absolutely appalling and awful it...\n",
            "15    here s a decidedly average italian post apocal...\n",
            "16    at the bottom end of the apocalypse movie scal...\n",
            "17    earth has been destroyed in a nuclear holocaus...\n",
            "18    many people are standing in front of the house...\n",
            "19    new york family is the last in their neighborh...\n",
            "20    the best thing about the prey is the tag line ...\n",
            "21    this is truly without exaggerating one of the ...\n",
            "22    i m a huge fan of both emily watson breaking t...\n",
            "23    sure most of the slasher films of the <NUM> s ...\n",
            "24    i think that would have been a more appropriat...\n",
            "25    <NUM> was certainly a year for bad backwoods s...\n",
            "26    everything everyone has said already pretty mu...\n",
            "27    uhhh so did they even have writers for this ma...\n",
            "28    oh yeah this one is definitely a strong conten...\n",
            "29    supercraptastic slasher fare which feels overl...\n",
            "Name: clean_review, dtype: object\n"
          ]
        }
      ],
      "source": [
        "# TODO\n",
        "# Add the clean_review column to the df_imdb dataframe\n",
        "df_imdb[\"clean_review\"] = df_imdb[\"review\"].apply(preprocess_text)\n",
        "\n",
        "# Store the clean_review column to the variable clean_column\n",
        "clean_column = df_imdb[\"clean_review\"]\n",
        "\n",
        "# Print the first few rows of the df_imdb dataframe\n",
        "print(df_imdb[\"clean_review\"].head(30))\n",
        "\n"
      ]
    },
    {
      "cell_type": "markdown",
      "metadata": {
        "id": "M0Dl9i7X1JWb"
      },
      "source": [
        "🚧 **TODO** 🚧\n",
        "\n",
        "Run the tokenizer on the clean text and print 50 random tokens."
      ]
    },
    {
      "cell_type": "code",
      "execution_count": null,
      "metadata": {
        "id": "koSGantW1SL1",
        "colab": {
          "base_uri": "https://localhost:8080/",
          "height": 66,
          "referenced_widgets": [
            "9d34606e6a68441b81513b141ceb1f8c",
            "6dd0a44edffc4e83a26ae7e346929602",
            "fa56624ec5f646faa2a8b4d0d764e7a8",
            "9c1d194ab2754e77844b5267da9d98c5",
            "0954870c4a1f4b49bb437868c7936164",
            "9567b9b140e4480c8d675bdddbc38643",
            "aadf22e72fdb47689848a35d3a071c71",
            "db3ef9f79ba94bdb83dfa0c68685a86d",
            "b16666d58c124dcda2d5f37663600f3e",
            "e974130ded364323a52ed1a04421bf11",
            "fbe5072d92f542468d31acb5139a8951"
          ]
        },
        "outputId": "7f9b297a-e3a3-4123-b5d7-d0c3316eb69f"
      },
      "outputs": [
        {
          "output_type": "display_data",
          "data": {
            "text/plain": [
              "  0%|          | 0/62155 [00:00<?, ?it/s]"
            ],
            "application/vnd.jupyter.widget-view+json": {
              "version_major": 2,
              "version_minor": 0,
              "model_id": "9d34606e6a68441b81513b141ceb1f8c"
            }
          },
          "metadata": {}
        },
        {
          "output_type": "stream",
          "name": "stdout",
          "text": [
            "Built a vocabulary of 102158 words.\n"
          ]
        }
      ],
      "source": [
        "# TODO fit the tokenizer\n",
        "tokenizer = WhiteSpaceTokenizer()\n",
        "tokenizer.fit(df_imdb[\"clean_review\"])\n",
        "\n",
        "# Get a list of all the tokens in the vocabulary.\n",
        "tokens = list(tokenizer.vocab)\n",
        "#print(tokenizer.id_to_token[15])\n",
        "#print(tokenizer.frequencies)"
      ]
    },
    {
      "cell_type": "code",
      "execution_count": null,
      "metadata": {
        "id": "DJlHz9Sw1c56",
        "colab": {
          "base_uri": "https://localhost:8080/"
        },
        "outputId": "f2f8700d-407c-46ab-a418-efe2fd54e2b8"
      },
      "outputs": [
        {
          "output_type": "stream",
          "name": "stdout",
          "text": [
            "harebrained\n",
            "starring\n",
            "reminiscent\n",
            "orkin\n",
            "cuddly\n",
            "shagger\n",
            "anaesthesia\n",
            "cantors\n",
            "lazareno\n",
            "allena\n",
            "serbians\n",
            "legwarmers\n",
            "lear\n",
            "jarr\n",
            "tarn\n",
            "whistles\n",
            "jourdan\n",
            "pennsylvanian\n",
            "temped\n",
            "barnes\n",
            "vibes\n",
            "khaleil\n",
            "sweetums\n",
            "marrakech\n",
            "ato\n",
            "mcandrew\n",
            "craved\n",
            "transsexualsa\n",
            "gazelles\n",
            "cauldrons\n",
            "nuke\n",
            "grimness\n",
            "huberdeau\n",
            "spends\n",
            "ditka\n",
            "heasley\n",
            "castas\n",
            "healthily\n",
            "humbug\n",
            "tsunami\n",
            "renassaince\n",
            "mayis\n",
            "gastineau\n",
            "nowhere\n",
            "surpised\n",
            "prentice\n",
            "kavkazskij\n",
            "lampiao\n",
            "wexford\n",
            "joannon\n"
          ]
        }
      ],
      "source": [
        "# Shuffle the tokens.\n",
        "random.shuffle(tokens)\n",
        "\n",
        "# Print the first 50 tokens.\n",
        "for i in range(50):\n",
        "  print(tokens[i])\n"
      ]
    },
    {
      "cell_type": "markdown",
      "metadata": {
        "id": "Sq8CzSBw1vsI"
      },
      "source": [
        "🚧 **Question** 🚧\n",
        "\n",
        "What do you think of the new tokens? Are they better? What common noise still remain? (Feel free to print more tokens to get a better intuition).\n",
        "\n",
        "Suggest some methods to improve again the tokenization (at least 2), based on either these results or on something you think we could have done better.\n",
        "\n",
        "**Answer**\n",
        "\n",
        "1. The new tokens are notably improved after the implementation of the text preprocessing steps. The noise has been significantly reduced, offering a cleaner set of tokens.However, the placeholder '&lt;NUM&gt;' is prominently observed amongst the cleaned tokens.\n",
        "\n",
        "2. Tokens like 'vo&lt;NUM&gt;no&lt;NUM&gt;' mix text and numbers, probably caused by replacing numbers with '&lt;NUM&gt;NUM&lt;NUM&gt;' during the preprocessing stage. We can re-examine your digital processing strategy.\n",
        "  \n",
        "   Some words, such as 'frickkin' and 'llyod', may be misspelled or have non-standard spellings. Incorporating a spelling correction algorithm, like using a ready-made library (such as SymSpell or PySpellChecker) to correct these common spelling errors.\n",
        "  "
      ]
    },
    {
      "cell_type": "markdown",
      "metadata": {
        "id": "ohqx368M2ZiG"
      },
      "source": [
        "### Tokens analysis\n",
        "\n",
        "\n",
        "🚧 **TODO** 🚧\n",
        "\n",
        "Show the frequencies repartition.\n",
        "This should be a histogram, with 100 bins, with the frequencies on the x axis and the number of words associated to the frequencies on the y axis (see https://matplotlib.org/stable/api/_as_gen/matplotlib.pyplot.hist.html).\n",
        "\n",
        "Use logarithm scale for y."
      ]
    },
    {
      "cell_type": "code",
      "execution_count": null,
      "metadata": {
        "id": "r8N76FrE3fyt",
        "colab": {
          "base_uri": "https://localhost:8080/",
          "height": 489
        },
        "outputId": "f3493433-e09a-4187-a65e-ca8f99766ba7"
      },
      "outputs": [
        {
          "output_type": "execute_result",
          "data": {
            "text/plain": [
              "<function matplotlib.pyplot.show(close=None, block=None)>"
            ]
          },
          "metadata": {},
          "execution_count": 55
        },
        {
          "output_type": "display_data",
          "data": {
            "text/plain": [
              "<Figure size 640x480 with 1 Axes>"
            ],
            "image/png": "[encoded data removed]"
          },
          "metadata": {}
        }
      ],
      "source": [
        "# TODO\n",
        "frequencies = list(tokenizer.frequencies.values())\n",
        "plt.hist(frequencies,bins=100,log=True, color='blue', edgecolor='black')\n",
        "plt.title('Frequencies Repartition')\n",
        "plt.xlabel('Frequencies')\n",
        "plt.ylabel('Number of Words')\n",
        "plt.show\n"
      ]
    },
    {
      "cell_type": "markdown",
      "metadata": {
        "id": "qX-WtALB8mam"
      },
      "source": [
        "🚧 **Question** 🚧\n",
        "\n",
        "What do you think of the repartition?\n",
        "\n",
        "**Answer**\n",
        "\n",
        "The repartition of word frequencies, as visualized in the histogram, exhibits a hyperbolic decay reminiscent of\n",
        "$y=1/x$, a manifestation of Zipf's law. This law stipulates that a small number of words will occur very frequently, while the vast majority of words will occur rarely.\n",
        "\n"
      ]
    },
    {
      "cell_type": "markdown",
      "metadata": {
        "id": "zXXq8T04fRYM"
      },
      "source": [
        "🚧 **TODO** 🚧\n",
        "\n",
        "Plot the frequencies repartition. Find the best corresponding Zipf law (seen during the course) and plot it on the same figure."
      ]
    },
    {
      "cell_type": "code",
      "execution_count": null,
      "metadata": {
        "id": "PJeJUqQe_jfo",
        "colab": {
          "base_uri": "https://localhost:8080/",
          "height": 476
        },
        "outputId": "45def753-87b8-4f39-8037-dc9fc0511c6e"
      },
      "outputs": [
        {
          "output_type": "display_data",
          "data": {
            "text/plain": [
              "<Figure size 640x480 with 1 Axes>"
            ],
            "image/png": "[encoded data removed]"
          },
          "metadata": {}
        }
      ],
      "source": [
        "# TODO\n",
        "from scipy.optimize import curve_fit\n",
        "\n",
        "#Define a simplified Zipf's law function\n",
        "def simple_zipf(r, a):\n",
        "    return a / r\n",
        "\n",
        "\n",
        "frequencies = sorted(list(tokenizer.frequencies.values()), reverse=True)\n",
        "\n",
        "ranks = np.arange(1, len(frequencies)+1)\n",
        "\n",
        "\n",
        "para, _ = curve_fit(simple_zipf, ranks, frequencies)\n",
        "\n",
        "\n",
        "a = para[0]\n",
        "\n",
        "\n",
        "zipf = simple_zipf(ranks, a)\n",
        "\n",
        "\n",
        "plt.plot(ranks, frequencies, marker=\"o\", linestyle=\"\", label=\"Actual Frequencies\")\n",
        "plt.plot(ranks, zipf, label=f\"Zipf's law with a={a:.2f}\")\n",
        "plt.yscale('log')\n",
        "plt.xscale('log')\n",
        "plt.xlabel('Rank')\n",
        "plt.ylabel('Frequency')\n",
        "plt.title('Fitting Simple Zipf\\'s Law without Log Scale')\n",
        "plt.legend()\n",
        "plt.show()"
      ]
    },
    {
      "cell_type": "markdown",
      "metadata": {
        "id": "FB--kpAVE7p_"
      },
      "source": [
        "## III - DataLoading\n",
        "\n",
        "This final part aims at making your dataset compatible with PyTorch.\n",
        "\n",
        "### Text representation\n",
        "\n",
        "Since we plan to work with PyTorch, we need to work with `tensors`. But since a text is only composed of strings, we need to find some numerical representations for the text.\n",
        "\n",
        "The most basic method is to represent a text by list of tokens. We already used a simple WhiteSpace tokenizer earlier to analyze our texts before cleaning. Now we will use it to *represent* the texts.\n",
        "\n",
        "🚧 **TODO** 🚧\n",
        "\n",
        "Modify the code of the `WhiteSpaceTokenizer` so that it could encode a text into a list of token ids and do the reverse (i.e. decode a list of token ids to a text)."
      ]
    },
    {
      "cell_type": "code",
      "execution_count": null,
      "metadata": {
        "id": "-8a20vOKJ5Wz"
      },
      "outputs": [],
      "source": [
        "class WhiteSpaceTokenizer:\n",
        "    def __init__(self):\n",
        "        # The vocabulary will store the mapping between text tokens and their id.\n",
        "        self.vocab = {}\n",
        "        self.id_to_token = {}\n",
        "\n",
        "        # We will keep track of the number of times a word appears in the corpus.\n",
        "        self.frequencies = {}\n",
        "\n",
        "\n",
        "    def split_text(self, text: str) -> List[str]:\n",
        "        \"\"\"Converts the text to a list of tokens (substrings).\"\"\"\n",
        "        # TODO\n",
        "        list_tokens = text.split()\n",
        "        return list_tokens\n",
        "\n",
        "    def encode(self, text: str) -> List[int]:\n",
        "        \"\"\"Take a text as input and return its associated tokenization, as a list of ids.\"\"\"\n",
        "        # TODO\n",
        "        # Split the text into tokens.\n",
        "        tokens = self.split_text(text)\n",
        "\n",
        "        # Convert the tokens to ids.\n",
        "        token_ids = []\n",
        "        for token in tokens:\n",
        "          token_id = self.vocab.get(token, None)\n",
        "          if token_id is None:\n",
        "            raise ValueError(f\"Token {token} not found in vocabulary.\")\n",
        "          token_ids.append(token_id)\n",
        "\n",
        "        return token_ids\n",
        "\n",
        "    def decode(self, ids: List[int]) -> str:\n",
        "        # TODO\n",
        "        # Convert the ids to tokens.\n",
        "        tokens = []\n",
        "        for token_id in ids:\n",
        "          token = self.id_to_token.get(token_id, None)\n",
        "          if token is None:\n",
        "            raise ValueError(f\"Token id {token_id} not found in vocabulary.\")\n",
        "          tokens.append(token)\n",
        "\n",
        "        # Join the tokens into a text.\n",
        "        text = \" \".join(tokens)\n",
        "        return text\n",
        "\n",
        "    def fit(self, corpus: List[str]):\n",
        "        \"\"\"Fits the tokenizer to a list of texts to construct its vocabulary.\"\"\"\n",
        "        current_id = 0\n",
        "        for text in tqdm(corpus):\n",
        "\n",
        "            # Split into substrings.\n",
        "            list_tokens = self.split_text(text)\n",
        "\n",
        "            for token in list_tokens:\n",
        "\n",
        "                # Add the token to the vocabulary\n",
        "                token_id = self.vocab.get(token, None)\n",
        "\n",
        "                token_not_in_vocab = token_id is None\n",
        "                if token_not_in_vocab:\n",
        "                    self.vocab[token] = current_id#TODO\n",
        "                    self.id_to_token[current_id] = token#TODO\n",
        "                    self.frequencies[current_id] = 0\n",
        "                    token_id = current_id\n",
        "                    current_id += 1\n",
        "\n",
        "                self.frequencies[token_id] += 1\n",
        "\n",
        "        # Total number of words in vocab.\n",
        "        self.num_words = len(self.vocab)#TODO\n",
        "        print(f\"Built a vocabulary of {self.num_words} words.\")\n"
      ]
    },
    {
      "cell_type": "markdown",
      "metadata": {
        "id": "EawK5ctWqjOQ"
      },
      "source": [
        "🔴 **TEST**"
      ]
    },
    {
      "cell_type": "code",
      "execution_count": null,
      "metadata": {
        "id": "l1slN9MEKWjC",
        "colab": {
          "base_uri": "https://localhost:8080/",
          "height": 66,
          "referenced_widgets": [
            "51e785979c29480db4e5e72dd1d8a9c0",
            "edeb90f49e6e4ece8f613cb8154cfd66",
            "f016f253fc5e4bef85b8dadea2a3d642",
            "483e343c3b2248358fda257f9ec980a3",
            "697aca0192f44be5875d877a6380e49d",
            "51c0e588cbdc46ff95cd8732515ddb84",
            "a1ae466dd92946ae87a67e88cb3ba21d",
            "371ed78b4a5a45e5a66872ba77882815",
            "85b063aac2f043d88fe9aedd2479dd33",
            "b11972b1f2954ebd8c4526d1f08a44ca",
            "42ffb061437042a881bebc937c4492a1"
          ]
        },
        "outputId": "628d22b3-cddd-448d-d966-f5464cdf0282"
      },
      "outputs": [
        {
          "output_type": "display_data",
          "data": {
            "text/plain": [
              "  0%|          | 0/2 [00:00<?, ?it/s]"
            ],
            "application/vnd.jupyter.widget-view+json": {
              "version_major": 2,
              "version_minor": 0,
              "model_id": "51e785979c29480db4e5e72dd1d8a9c0"
            }
          },
          "metadata": {}
        },
        {
          "output_type": "stream",
          "name": "stdout",
          "text": [
            "Built a vocabulary of 9 words.\n"
          ]
        }
      ],
      "source": [
        "tokenizer = WhiteSpaceTokenizer()\n",
        "toy_dataset = [\"the cat is in the kitchen\", \"i have a dog\"]\n",
        "tokenizer.fit(toy_dataset)\n",
        "text = \"i have a kitchen\"\n",
        "assert tokenizer.encode(text) == [5, 6, 7, 4]\n",
        "assert tokenizer.decode([0, 1, 2, 7, 8]) == \"the cat is a dog\""
      ]
    },
    {
      "cell_type": "markdown",
      "metadata": {
        "id": "imYmiv-PMiH4"
      },
      "source": [
        "🚧 **TODO** 🚧 Now fit it on your dataset."
      ]
    },
    {
      "cell_type": "code",
      "execution_count": null,
      "metadata": {
        "id": "5-agmjJdMkHg",
        "colab": {
          "base_uri": "https://localhost:8080/",
          "height": 66,
          "referenced_widgets": [
            "b0692357ce5a4b3b913c6a6bbd2aba42",
            "3fbdf42efcd74c6c91519ac6c0d5917c",
            "7b06c87e0537462d8fbb4b78e1bc4916",
            "ad1388640aa64435bdd566c6c3ba8b9a",
            "816795d0aa9f4ffea57b89a7bdd567ea",
            "007f5dc240bf4d138d2eda9f96332f2b",
            "3bb3bda43ccb4afe80a40fda22803658",
            "fa1b08d47e0c4ee8b0fabbb76dae8087",
            "7b1c791fb79a439fa0fadf3cca9287dc",
            "203030f1ea854a5db4adf824b9305bfb",
            "4c3f02cdaf5f43bab4009d66275e8083"
          ]
        },
        "outputId": "1ad22eee-377f-461a-b5ab-629bfdc9fcf8"
      },
      "outputs": [
        {
          "output_type": "display_data",
          "data": {
            "text/plain": [
              "  0%|          | 0/62155 [00:00<?, ?it/s]"
            ],
            "application/vnd.jupyter.widget-view+json": {
              "version_major": 2,
              "version_minor": 0,
              "model_id": "b0692357ce5a4b3b913c6a6bbd2aba42"
            }
          },
          "metadata": {}
        },
        {
          "output_type": "stream",
          "name": "stdout",
          "text": [
            "Built a vocabulary of 102158 words.\n"
          ]
        }
      ],
      "source": [
        "# TODO\n",
        "tokenizer = WhiteSpaceTokenizer()\n",
        "\n",
        "# Fit the tokenizer to the clean_review column of the df_imdb dataset.\n",
        "tokenizer.fit(df_imdb[\"clean_review\"])"
      ]
    },
    {
      "cell_type": "markdown",
      "metadata": {
        "id": "ZHO2xKpiL1oI"
      },
      "source": [
        "🚧 **Question** 🚧\n",
        "Look at the following code:"
      ]
    },
    {
      "cell_type": "code",
      "execution_count": null,
      "metadata": {
        "id": "l3zS9noAL0DO",
        "colab": {
          "base_uri": "https://localhost:8080/",
          "height": 296
        },
        "outputId": "f1d9bbb5-3f26-4cf7-81f4-b5ed5c6c1104"
      },
      "outputs": [
        {
          "output_type": "error",
          "ename": "ValueError",
          "evalue": "ignored",
          "traceback": [
            "\u001b[0;31m---------------------------------------------------------------------------\u001b[0m",
            "\u001b[0;31mValueError\u001b[0m                                Traceback (most recent call last)",
            "\u001b[0;32m<ipython-input-60-9ae8fbe1fa3d>\u001b[0m in \u001b[0;36m<cell line: 1>\u001b[0;34m()\u001b[0m\n\u001b[0;32m----> 1\u001b[0;31m \u001b[0mtokenizer\u001b[0m\u001b[0;34m.\u001b[0m\u001b[0mencode\u001b[0m\u001b[0;34m(\u001b[0m\u001b[0;34m\"the king is in the câstle\"\u001b[0m\u001b[0;34m)\u001b[0m\u001b[0;34m\u001b[0m\u001b[0;34m\u001b[0m\u001b[0m\n\u001b[0m",
            "\u001b[0;32m<ipython-input-57-08821093d9c0>\u001b[0m in \u001b[0;36mencode\u001b[0;34m(self, text)\u001b[0m\n\u001b[1;32m     26\u001b[0m           \u001b[0mtoken_id\u001b[0m \u001b[0;34m=\u001b[0m \u001b[0mself\u001b[0m\u001b[0;34m.\u001b[0m\u001b[0mvocab\u001b[0m\u001b[0;34m.\u001b[0m\u001b[0mget\u001b[0m\u001b[0;34m(\u001b[0m\u001b[0mtoken\u001b[0m\u001b[0;34m,\u001b[0m \u001b[0;32mNone\u001b[0m\u001b[0;34m)\u001b[0m\u001b[0;34m\u001b[0m\u001b[0;34m\u001b[0m\u001b[0m\n\u001b[1;32m     27\u001b[0m           \u001b[0;32mif\u001b[0m \u001b[0mtoken_id\u001b[0m \u001b[0;32mis\u001b[0m \u001b[0;32mNone\u001b[0m\u001b[0;34m:\u001b[0m\u001b[0;34m\u001b[0m\u001b[0;34m\u001b[0m\u001b[0m\n\u001b[0;32m---> 28\u001b[0;31m             \u001b[0;32mraise\u001b[0m \u001b[0mValueError\u001b[0m\u001b[0;34m(\u001b[0m\u001b[0;34mf\"Token {token} not found in vocabulary.\"\u001b[0m\u001b[0;34m)\u001b[0m\u001b[0;34m\u001b[0m\u001b[0;34m\u001b[0m\u001b[0m\n\u001b[0m\u001b[1;32m     29\u001b[0m           \u001b[0mtoken_ids\u001b[0m\u001b[0;34m.\u001b[0m\u001b[0mappend\u001b[0m\u001b[0;34m(\u001b[0m\u001b[0mtoken_id\u001b[0m\u001b[0;34m)\u001b[0m\u001b[0;34m\u001b[0m\u001b[0;34m\u001b[0m\u001b[0m\n\u001b[1;32m     30\u001b[0m \u001b[0;34m\u001b[0m\u001b[0m\n",
            "\u001b[0;31mValueError\u001b[0m: Token câstle not found in vocabulary."
          ]
        }
      ],
      "source": [
        "tokenizer.encode(\"the king is in the câstle\")"
      ]
    },
    {
      "cell_type": "markdown",
      "metadata": {
        "id": "Reu2H7UXM9J_"
      },
      "source": [
        "a) Does it raise an exception? Explain what is the problem with the above situation.\n",
        "\n",
        "b) In which real life scenario could such a situation appear?\n",
        "\n",
        "**Answer**\n",
        "\n",
        "\n",
        "\n",
        "a) Yes,it raise an exception.\n",
        "\n",
        "When executing tokenizer.encode(\"the king is in the câstle\"), no preprocessing is performed. However, our vocabulary library is built based on the preprocessed text, so it does not contain words like \"câstle\", which Cause exception.\n",
        "\n",
        "b) In real life, this scenario appear when we have a bad data preprocessing, or sometimes, we don't have enough words in our vocabulary, such as slang words, trending terms, etc.\n",
        "\n",
        "For example, an app intended for English-speaking users may not be able to correctly process or recognize French words that contain phonetic symbols or special characters.\n"
      ]
    },
    {
      "cell_type": "markdown",
      "metadata": {
        "id": "XbJtCxPKOFYe"
      },
      "source": [
        "🚧 **TODO** 🚧\n",
        "\n",
        "Propose a simple modification of the tokenizer code such that it doesn't raise an exception anymore. It should handle the presence of any unknown token.\n",
        "\n",
        "The following code should't raise any exception."
      ]
    },
    {
      "cell_type": "markdown",
      "source": [
        "**Solution: We will add <UNK> token to every unknown vocab, and make sure every unknown word will get the same token_id**"
      ],
      "metadata": {
        "id": "TeZu6SzJ62fq"
      }
    },
    {
      "cell_type": "code",
      "source": [
        "class WhiteSpaceTokenizer:\n",
        "    def __init__(self):\n",
        "        # The vocabulary will store the mapping between text tokens and their ids.\n",
        "        self.vocab = {}\n",
        "        self.id_to_token = {}\n",
        "\n",
        "        # We will keep track of the number of times a word appears in the corpus.\n",
        "        self.frequencies = {}\n",
        "\n",
        "        # Add the special token for unknown tokens to the vocabulary.\n",
        "        self.vocab[\"<UNK>\"] = 0\n",
        "        self.id_to_token[0] = \"<UNK>\"\n",
        "\n",
        "    def split_text(self, text: str) -> List[str]:\n",
        "        \"\"\"Converts the text to a list of tokens (substrings).\"\"\"\n",
        "        # TODO\n",
        "        list_tokens = text.split()\n",
        "        return list_tokens\n",
        "\n",
        "    def encode(self, text: str) -> List[int]:\n",
        "        \"\"\"Take a text as input and return its associated tokenization, as a list of ids.\"\"\"\n",
        "        # TODO\n",
        "        # Split the text into tokens.\n",
        "        tokens = self.split_text(text)\n",
        "\n",
        "        # Convert the tokens to ids.\n",
        "        token_ids = []\n",
        "        for token in tokens:\n",
        "            token_id = self.vocab.get(token, 0)\n",
        "            token_ids.append(token_id)\n",
        "\n",
        "        return token_ids\n",
        "\n",
        "    def decode(self, ids: List[int]) -> str:\n",
        "        # TODO\n",
        "        # Convert the ids to tokens.\n",
        "        tokens = []\n",
        "        for token_id in ids:\n",
        "            token = self.id_to_token.get(token_id, None)\n",
        "            if token is None:\n",
        "                token = \"<UNK>\"\n",
        "            tokens.append(token)\n",
        "\n",
        "        # Join the tokens into a text.\n",
        "        text = \" \".join(tokens)\n",
        "        return text\n",
        "\n",
        "    def fit(self, corpus: List[str]):\n",
        "        \"\"\"Fits the tokenizer to a list of texts to construct its vocabulary.\"\"\"\n",
        "        current_id = 1\n",
        "        for text in tqdm(corpus):\n",
        "\n",
        "            # Split into substrings.\n",
        "            list_tokens = self.split_text(text)\n",
        "\n",
        "            for token in list_tokens:\n",
        "\n",
        "                # Add the token to the vocabulary.\n",
        "                token_id = self.vocab.get(token, None)\n",
        "\n",
        "                token_not_in_vocab = token_id is None\n",
        "                if token_not_in_vocab:\n",
        "                    self.vocab[token] = current_id\n",
        "                    self.id_to_token[current_id] = token\n",
        "                    self.frequencies[current_id] = 0\n",
        "                    token_id = current_id\n",
        "                    current_id += 1\n",
        "\n",
        "                self.frequencies[token_id] += 1\n",
        "\n",
        "        # Total number of words in vocab.\n",
        "        self.num_words = len(self.vocab)\n",
        "        print(f\"Built a vocabulary of {self.num_words} words.\")"
      ],
      "metadata": {
        "id": "-RzZlVFY7AEX"
      },
      "execution_count": null,
      "outputs": []
    },
    {
      "cell_type": "markdown",
      "metadata": {
        "id": "-sxrH8mFqs6I"
      },
      "source": [
        "🔴 **TEST**"
      ]
    },
    {
      "cell_type": "code",
      "source": [
        "tokenizer = WhiteSpaceTokenizer()\n",
        "\n",
        "# Fit the tokenizer to the clean_review column of the df_imdb dataset.\n",
        "tokenizer.fit(df_imdb[\"clean_review\"])"
      ],
      "metadata": {
        "colab": {
          "base_uri": "https://localhost:8080/",
          "height": 66,
          "referenced_widgets": [
            "584e477b66e148b3b0d019acbccedcb8",
            "031344138c74498daced04af8cc81e48",
            "f32bc21cbe204366912039330c6aca38",
            "f17e36fad0194aa99a26358c16e6277c",
            "bd312ad1368841d8b3306c23a0136991",
            "e67490beffb14401861ceb0d9c4fdcda",
            "52191f87ae82458c87816323f38b9814",
            "3a11dddcabf0403eb16633b60602bce7",
            "2b10b9c74a0949e9908bd632b94be0b5",
            "9c9d3effcb2d435096c2e4e0bba6fab5",
            "69b265411214473b81aa608ca16153d3"
          ]
        },
        "id": "mbTwBEIM7_oe",
        "outputId": "0add9470-1265-4e27-cc2c-4fcdb922db3f"
      },
      "execution_count": null,
      "outputs": [
        {
          "output_type": "display_data",
          "data": {
            "text/plain": [
              "  0%|          | 0/62155 [00:00<?, ?it/s]"
            ],
            "application/vnd.jupyter.widget-view+json": {
              "version_major": 2,
              "version_minor": 0,
              "model_id": "584e477b66e148b3b0d019acbccedcb8"
            }
          },
          "metadata": {}
        },
        {
          "output_type": "stream",
          "name": "stdout",
          "text": [
            "Built a vocabulary of 102159 words.\n"
          ]
        }
      ]
    },
    {
      "cell_type": "code",
      "execution_count": null,
      "metadata": {
        "id": "EJVfIsLqLQ4M"
      },
      "outputs": [],
      "source": [
        "allowed_characters = (string.ascii_uppercase + string.digits).replace(\" \", \"\")\n",
        "for _ in range(1000):\n",
        "    word_that_do_not_exist = \"\".join(random.choices(allowed_characters, k=100))\n",
        "    encoding = tokenizer.encode(f\"the king is in the {word_that_do_not_exist}\")\n",
        "    assert tokenizer.decode(encoding) == \"the king is in the <UNK>\""
      ]
    },
    {
      "cell_type": "markdown",
      "metadata": {
        "id": "DZ_O5jT_f0Mr"
      },
      "source": [
        "### Dataset for PyTorch\n",
        "We will be working wtth PyTorch most of the time.\n",
        "A good practice is to always iterate through a `torch.utils.data.DataLoader`, coupled with `torch.utils.data.Dataset`.\n",
        "\n",
        "🚧 **TODO** 🚧\n",
        "\n",
        "We will construct our custom `Dataset` class, that should be fully compatible with the PyTorch API. According to the [documentation](https://pytorch.org/tutorials/beginner/basics/data_tutorial.html#creating-a-custom-dataset-for-your-files), such a dataset should implement at least three methods, `__init__`, `__len__`, `__getitem__`. Complete the following code such that the dataset yields a list of texts.\n",
        "\n",
        "Requirements:\n",
        "1. The dataset class should read the data from the csv_file stored in `DATA_PATH`.\n",
        "2. The dataset should output the raw text, without any cleaning."
      ]
    },
    {
      "cell_type": "code",
      "execution_count": null,
      "metadata": {
        "id": "Gqn2FgOthdcF"
      },
      "outputs": [],
      "source": [
        "from torch.utils.data import Dataset\n",
        "import csv\n",
        "\n",
        "class IMDBDataset(Dataset):\n",
        "    def __init__(self, file_path: str):\n",
        "        # TODO\n",
        "      with open(file_path, \"r\", encoding=\"utf-8\") as f:\n",
        "        reader = csv.reader(f)\n",
        "        self.data = list(reader)\n",
        "\n",
        "    def __len__(self):\n",
        "        # TODO\n",
        "        return len(self.data)\n",
        "\n",
        "\n",
        "    def __getitem__(self, idx: int):\n",
        "        # TODO\n",
        "        idx+=1\n",
        "        #we indexing +1 to avoid the 'review' & 'label' at the [0] position\n",
        "        if idx >= len(self.data):\n",
        "            raise IndexError(\"Index out of range\")\n",
        "        text = self.data[idx][0]\n",
        "        label = int(self.data[idx][1])\n",
        "        return text,label"
      ]
    },
    {
      "cell_type": "markdown",
      "metadata": {
        "id": "T2kJbUUxtPi8"
      },
      "source": [
        "🔴 **TEST**"
      ]
    },
    {
      "cell_type": "code",
      "execution_count": null,
      "metadata": {
        "id": "68tkYxHKiFzA"
      },
      "outputs": [],
      "source": [
        "imdb_dataset = IMDBDataset(file_path=DATA_PATH)\n",
        "text, label = imdb_dataset[0]\n",
        "type(label_column[0])\n",
        "assert text == text_column[0]\n"
      ]
    },
    {
      "cell_type": "code",
      "source": [
        "imdb_dataset = IMDBDataset(file_path=DATA_PATH)\n",
        "text, label = imdb_dataset[0]\n",
        "assert text == text_column[0]\n",
        "assert label == label_column[0]"
      ],
      "metadata": {
        "id": "VY1gBz2H5wE8"
      },
      "execution_count": null,
      "outputs": []
    },
    {
      "cell_type": "markdown",
      "metadata": {
        "id": "1EaTm6k7QZHL"
      },
      "source": [
        "### DataLoader for PyTorch\n",
        "\n",
        "Now that the dataset is ready, we should be able to iterate through it. This is done with a `DataLoader`.\n",
        "\n",
        "The `DataLoader` also has some handy functionnalities:\n",
        "1. Batch iteration.\n",
        "2. Collate function.\n",
        "\n",
        "The collate function corresponds to the argument `collate_fn` of the constructor of `torch.utils.data.DataLoader`.\n",
        "\n",
        "This function is applied on the fly to each sample of the dataset.\n",
        "\n",
        "Our `IMDBDataset` only outputs raw texts. During the iteration through the `DataLoader`, we would like to:\n",
        "1. Clean the dataset with our cleaning function `preprocess_text`.\n",
        "2. Convert the text to a list of tokens.\n",
        "3. The `DataLoader`, for a batch size of `N`, should yield a dictionnary `{\"token_ids\": ..., \"labels\": ...,}` with `\"token_ids\"` corresponding to a list of `N` lists of tokens ids, and `\"labels\"` to a list of size `N` with the corresponding labels.\n",
        "\n",
        "🚧 **TODO** 🚧\n",
        "\n",
        "Write the `collate_fn` function so that the above requirements are satisfied (i.e., clean and tokenize)."
      ]
    },
    {
      "cell_type": "code",
      "execution_count": null,
      "metadata": {
        "id": "hvbB5VMrSSzY"
      },
      "outputs": [],
      "source": [
        "# TODO\n",
        "def collate_fn(batch):\n",
        "  texts = [item[0] for item in batch]\n",
        "  labels = [item[1] for item in batch]\n",
        "\n",
        "  # Clean the texts.\n",
        "  texts = [preprocess_text(text) for text in texts]\n",
        "\n",
        "  # Convert the texts to lists of token ids.\n",
        "  token_ids = [tokenizer.encode(text) for text in texts]\n",
        "\n",
        "  # Return a dictionary containing the token ids and labels.\n",
        "  return {\"token_ids\": token_ids, \"labels\": labels}"
      ]
    },
    {
      "cell_type": "code",
      "execution_count": null,
      "metadata": {
        "id": "jGkthDygS5uT"
      },
      "outputs": [],
      "source": [
        "from torch.utils.data import DataLoader"
      ]
    },
    {
      "cell_type": "markdown",
      "metadata": {
        "id": "B0aAd6B2q4KC"
      },
      "source": [
        "🔴 **TEST**"
      ]
    },
    {
      "cell_type": "code",
      "execution_count": null,
      "metadata": {
        "id": "YMkufgR1Sf8J"
      },
      "outputs": [],
      "source": [
        "for batch_size in range(1, 10):\n",
        "    dataloader = DataLoader(\n",
        "        dataset=imdb_dataset, batch_size=batch_size, collate_fn=collate_fn\n",
        "    )\n",
        "    for batch in dataloader:\n",
        "        token_ids = batch[\"token_ids\"]\n",
        "        labels = batch[\"labels\"]\n",
        "        assert len(token_ids) == batch_size\n",
        "        assert len(labels) == batch_size\n",
        "        assert isinstance(token_ids[0][0], int)\n",
        "        assert (isinstance(labels[0], int)) or isinstance(labels[0], np.int64)\n",
        "        break"
      ]
    },
    {
      "cell_type": "markdown",
      "metadata": {
        "id": "JacMmD5Kq6j8"
      },
      "source": [
        "🚧 **Question** 🚧\n",
        "\n",
        "Write a concise summary on what you learned with this lab.\n",
        "\n",
        "**Answer**\n",
        "\n",
        "What we have learned through this lab:\n",
        "1. How to step by step process + tokenize the text data into tokens that we can learn from.\n",
        "2. How to prepare the raw data.\n",
        "2. How to deal with unknown word from the data.\n",
        "3. Workflow when we want to work with text data (or data in general)"
      ]
    },
    {
      "cell_type": "code",
      "source": [],
      "metadata": {
        "id": "aopZ1JZh8h9p"
      },
      "execution_count": null,
      "outputs": []
    }
  ],
  "metadata": {
    "colab": {
      "provenance": []
    },
    "kernelspec": {
      "display_name": "Python 3 (ipykernel)",
      "language": "python",
      "name": "python3"
    },
    "language_info": {
      "codemirror_mode": {
        "name": "ipython",
        "version": 3
      },
      "file_extension": ".py",
      "mimetype": "text/x-python",
      "name": "python",
      "nbconvert_exporter": "python",
      "pygments_lexer": "ipython3",
      "version": "3.9.12"
    },
    "toc": {
      "base_numbering": 1,
      "nav_menu": {},
      "number_sections": true,
      "sideBar": true,
      "skip_h1_title": false,
      "title_cell": "Table of Contents",
      "title_sidebar": "Contents",
      "toc_cell": false,
      "toc_position": {},
      "toc_section_display": true,
      "toc_window_display": false
    },
    "widgets": {
      "application/vnd.jupyter.widget-state+json": {
        "fac5c2d37a82432d93cf4fcb07568043": {
          "model_module": "@jupyter-widgets/controls",
          "model_name": "HBoxModel",
          "model_module_version": "1.5.0",
          "state": {
            "_dom_classes": [],
            "_model_module": "@jupyter-widgets/controls",
            "_model_module_version": "1.5.0",
            "_model_name": "HBoxModel",
            "_view_count": null,
            "_view_module": "@jupyter-widgets/controls",
            "_view_module_version": "1.5.0",
            "_view_name": "HBoxView",
            "box_style": "",
            "children": [
              "IPY_MODEL_15da5cf4eb644c159f2a9ea3d0a15d65",
              "IPY_MODEL_50e58256f6bf4a9688646090fef02bdc",
              "IPY_MODEL_c851d08025f3433c9bb554a3410f66ff"
            ],
            "layout": "IPY_MODEL_d17883ef09564812ae80c16122f74df1"
          }
        },
        "15da5cf4eb644c159f2a9ea3d0a15d65": {
          "model_module": "@jupyter-widgets/controls",
          "model_name": "HTMLModel",
          "model_module_version": "1.5.0",
          "state": {
            "_dom_classes": [],
            "_model_module": "@jupyter-widgets/controls",
            "_model_module_version": "1.5.0",
            "_model_name": "HTMLModel",
            "_view_count": null,
            "_view_module": "@jupyter-widgets/controls",
            "_view_module_version": "1.5.0",
            "_view_name": "HTMLView",
            "description": "",
            "description_tooltip": null,
            "layout": "IPY_MODEL_bca0eaa82fd44556af3642edc8f25097",
            "placeholder": "​",
            "style": "IPY_MODEL_690c559c6a084bbd80c0526c5905389d",
            "value": "100%"
          }
        },
        "50e58256f6bf4a9688646090fef02bdc": {
          "model_module": "@jupyter-widgets/controls",
          "model_name": "FloatProgressModel",
          "model_module_version": "1.5.0",
          "state": {
            "_dom_classes": [],
            "_model_module": "@jupyter-widgets/controls",
            "_model_module_version": "1.5.0",
            "_model_name": "FloatProgressModel",
            "_view_count": null,
            "_view_module": "@jupyter-widgets/controls",
            "_view_module_version": "1.5.0",
            "_view_name": "ProgressView",
            "bar_style": "success",
            "description": "",
            "description_tooltip": null,
            "layout": "IPY_MODEL_89c744fb8a324308a9fbf6e71dec9b1c",
            "max": 2,
            "min": 0,
            "orientation": "horizontal",
            "style": "IPY_MODEL_d4b07d90d73d4bc8957f7f5fd3316a43",
            "value": 2
          }
        },
        "c851d08025f3433c9bb554a3410f66ff": {
          "model_module": "@jupyter-widgets/controls",
          "model_name": "HTMLModel",
          "model_module_version": "1.5.0",
          "state": {
            "_dom_classes": [],
            "_model_module": "@jupyter-widgets/controls",
            "_model_module_version": "1.5.0",
            "_model_name": "HTMLModel",
            "_view_count": null,
            "_view_module": "@jupyter-widgets/controls",
            "_view_module_version": "1.5.0",
            "_view_name": "HTMLView",
            "description": "",
            "description_tooltip": null,
            "layout": "IPY_MODEL_466baf93b992461ab02d9addfce6ca0e",
            "placeholder": "​",
            "style": "IPY_MODEL_9ee4a40d87dd4b12aefba4a5ce2a8673",
            "value": " 2/2 [00:00&lt;00:00, 71.35it/s]"
          }
        },
        "d17883ef09564812ae80c16122f74df1": {
          "model_module": "@jupyter-widgets/base",
          "model_name": "LayoutModel",
          "model_module_version": "1.2.0",
          "state": {
            "_model_module": "@jupyter-widgets/base",
            "_model_module_version": "1.2.0",
            "_model_name": "LayoutModel",
            "_view_count": null,
            "_view_module": "@jupyter-widgets/base",
            "_view_module_version": "1.2.0",
            "_view_name": "LayoutView",
            "align_content": null,
            "align_items": null,
            "align_self": null,
            "border": null,
            "bottom": null,
            "display": null,
            "flex": null,
            "flex_flow": null,
            "grid_area": null,
            "grid_auto_columns": null,
            "grid_auto_flow": null,
            "grid_auto_rows": null,
            "grid_column": null,
            "grid_gap": null,
            "grid_row": null,
            "grid_template_areas": null,
            "grid_template_columns": null,
            "grid_template_rows": null,
            "height": null,
            "justify_content": null,
            "justify_items": null,
            "left": null,
            "margin": null,
            "max_height": null,
            "max_width": null,
            "min_height": null,
            "min_width": null,
            "object_fit": null,
            "object_position": null,
            "order": null,
            "overflow": null,
            "overflow_x": null,
            "overflow_y": null,
            "padding": null,
            "right": null,
            "top": null,
            "visibility": null,
            "width": null
          }
        },
        "bca0eaa82fd44556af3642edc8f25097": {
          "model_module": "@jupyter-widgets/base",
          "model_name": "LayoutModel",
          "model_module_version": "1.2.0",
          "state": {
            "_model_module": "@jupyter-widgets/base",
            "_model_module_version": "1.2.0",
            "_model_name": "LayoutModel",
            "_view_count": null,
            "_view_module": "@jupyter-widgets/base",
            "_view_module_version": "1.2.0",
            "_view_name": "LayoutView",
            "align_content": null,
            "align_items": null,
            "align_self": null,
            "border": null,
            "bottom": null,
            "display": null,
            "flex": null,
            "flex_flow": null,
            "grid_area": null,
            "grid_auto_columns": null,
            "grid_auto_flow": null,
            "grid_auto_rows": null,
            "grid_column": null,
            "grid_gap": null,
            "grid_row": null,
            "grid_template_areas": null,
            "grid_template_columns": null,
            "grid_template_rows": null,
            "height": null,
            "justify_content": null,
            "justify_items": null,
            "left": null,
            "margin": null,
            "max_height": null,
            "max_width": null,
            "min_height": null,
            "min_width": null,
            "object_fit": null,
            "object_position": null,
            "order": null,
            "overflow": null,
            "overflow_x": null,
            "overflow_y": null,
            "padding": null,
            "right": null,
            "top": null,
            "visibility": null,
            "width": null
          }
        },
        "690c559c6a084bbd80c0526c5905389d": {
          "model_module": "@jupyter-widgets/controls",
          "model_name": "DescriptionStyleModel",
          "model_module_version": "1.5.0",
          "state": {
            "_model_module": "@jupyter-widgets/controls",
            "_model_module_version": "1.5.0",
            "_model_name": "DescriptionStyleModel",
            "_view_count": null,
            "_view_module": "@jupyter-widgets/base",
            "_view_module_version": "1.2.0",
            "_view_name": "StyleView",
            "description_width": ""
          }
        },
        "89c744fb8a324308a9fbf6e71dec9b1c": {
          "model_module": "@jupyter-widgets/base",
          "model_name": "LayoutModel",
          "model_module_version": "1.2.0",
          "state": {
            "_model_module": "@jupyter-widgets/base",
            "_model_module_version": "1.2.0",
            "_model_name": "LayoutModel",
            "_view_count": null,
            "_view_module": "@jupyter-widgets/base",
            "_view_module_version": "1.2.0",
            "_view_name": "LayoutView",
            "align_content": null,
            "align_items": null,
            "align_self": null,
            "border": null,
            "bottom": null,
            "display": null,
            "flex": null,
            "flex_flow": null,
            "grid_area": null,
            "grid_auto_columns": null,
            "grid_auto_flow": null,
            "grid_auto_rows": null,
            "grid_column": null,
            "grid_gap": null,
            "grid_row": null,
            "grid_template_areas": null,
            "grid_template_columns": null,
            "grid_template_rows": null,
            "height": null,
            "justify_content": null,
            "justify_items": null,
            "left": null,
            "margin": null,
            "max_height": null,
            "max_width": null,
            "min_height": null,
            "min_width": null,
            "object_fit": null,
            "object_position": null,
            "order": null,
            "overflow": null,
            "overflow_x": null,
            "overflow_y": null,
            "padding": null,
            "right": null,
            "top": null,
            "visibility": null,
            "width": null
          }
        },
        "d4b07d90d73d4bc8957f7f5fd3316a43": {
          "model_module": "@jupyter-widgets/controls",
          "model_name": "ProgressStyleModel",
          "model_module_version": "1.5.0",
          "state": {
            "_model_module": "@jupyter-widgets/controls",
            "_model_module_version": "1.5.0",
            "_model_name": "ProgressStyleModel",
            "_view_count": null,
            "_view_module": "@jupyter-widgets/base",
            "_view_module_version": "1.2.0",
            "_view_name": "StyleView",
            "bar_color": null,
            "description_width": ""
          }
        },
        "466baf93b992461ab02d9addfce6ca0e": {
          "model_module": "@jupyter-widgets/base",
          "model_name": "LayoutModel",
          "model_module_version": "1.2.0",
          "state": {
            "_model_module": "@jupyter-widgets/base",
            "_model_module_version": "1.2.0",
            "_model_name": "LayoutModel",
            "_view_count": null,
            "_view_module": "@jupyter-widgets/base",
            "_view_module_version": "1.2.0",
            "_view_name": "LayoutView",
            "align_content": null,
            "align_items": null,
            "align_self": null,
            "border": null,
            "bottom": null,
            "display": null,
            "flex": null,
            "flex_flow": null,
            "grid_area": null,
            "grid_auto_columns": null,
            "grid_auto_flow": null,
            "grid_auto_rows": null,
            "grid_column": null,
            "grid_gap": null,
            "grid_row": null,
            "grid_template_areas": null,
            "grid_template_columns": null,
            "grid_template_rows": null,
            "height": null,
            "justify_content": null,
            "justify_items": null,
            "left": null,
            "margin": null,
            "max_height": null,
            "max_width": null,
            "min_height": null,
            "min_width": null,
            "object_fit": null,
            "object_position": null,
            "order": null,
            "overflow": null,
            "overflow_x": null,
            "overflow_y": null,
            "padding": null,
            "right": null,
            "top": null,
            "visibility": null,
            "width": null
          }
        },
        "9ee4a40d87dd4b12aefba4a5ce2a8673": {
          "model_module": "@jupyter-widgets/controls",
          "model_name": "DescriptionStyleModel",
          "model_module_version": "1.5.0",
          "state": {
            "_model_module": "@jupyter-widgets/controls",
            "_model_module_version": "1.5.0",
            "_model_name": "DescriptionStyleModel",
            "_view_count": null,
            "_view_module": "@jupyter-widgets/base",
            "_view_module_version": "1.2.0",
            "_view_name": "StyleView",
            "description_width": ""
          }
        },
        "b5220f0ceb3f4699b9d9eecf88f0fa24": {
          "model_module": "@jupyter-widgets/controls",
          "model_name": "HBoxModel",
          "model_module_version": "1.5.0",
          "state": {
            "_dom_classes": [],
            "_model_module": "@jupyter-widgets/controls",
            "_model_module_version": "1.5.0",
            "_model_name": "HBoxModel",
            "_view_count": null,
            "_view_module": "@jupyter-widgets/controls",
            "_view_module_version": "1.5.0",
            "_view_name": "HBoxView",
            "box_style": "",
            "children": [
              "IPY_MODEL_fbbd28eed0674027b72ae17061d050e9",
              "IPY_MODEL_916bbbbe087f4d29b34951633b0bb379",
              "IPY_MODEL_ec372819dc8e40e58196dabaab7001ad"
            ],
            "layout": "IPY_MODEL_84984de2e1934a11b3106deda13fcb9f"
          }
        },
        "fbbd28eed0674027b72ae17061d050e9": {
          "model_module": "@jupyter-widgets/controls",
          "model_name": "HTMLModel",
          "model_module_version": "1.5.0",
          "state": {
            "_dom_classes": [],
            "_model_module": "@jupyter-widgets/controls",
            "_model_module_version": "1.5.0",
            "_model_name": "HTMLModel",
            "_view_count": null,
            "_view_module": "@jupyter-widgets/controls",
            "_view_module_version": "1.5.0",
            "_view_name": "HTMLView",
            "description": "",
            "description_tooltip": null,
            "layout": "IPY_MODEL_dd827142df944258a954d569a45244e9",
            "placeholder": "​",
            "style": "IPY_MODEL_2307c63044be4052b9fca6dc3e72a682",
            "value": "100%"
          }
        },
        "916bbbbe087f4d29b34951633b0bb379": {
          "model_module": "@jupyter-widgets/controls",
          "model_name": "FloatProgressModel",
          "model_module_version": "1.5.0",
          "state": {
            "_dom_classes": [],
            "_model_module": "@jupyter-widgets/controls",
            "_model_module_version": "1.5.0",
            "_model_name": "FloatProgressModel",
            "_view_count": null,
            "_view_module": "@jupyter-widgets/controls",
            "_view_module_version": "1.5.0",
            "_view_name": "ProgressView",
            "bar_style": "success",
            "description": "",
            "description_tooltip": null,
            "layout": "IPY_MODEL_13be9cdc64194793ae8ed7466830677e",
            "max": 62155,
            "min": 0,
            "orientation": "horizontal",
            "style": "IPY_MODEL_f0002312329b4315889541b3df6b003e",
            "value": 62155
          }
        },
        "ec372819dc8e40e58196dabaab7001ad": {
          "model_module": "@jupyter-widgets/controls",
          "model_name": "HTMLModel",
          "model_module_version": "1.5.0",
          "state": {
            "_dom_classes": [],
            "_model_module": "@jupyter-widgets/controls",
            "_model_module_version": "1.5.0",
            "_model_name": "HTMLModel",
            "_view_count": null,
            "_view_module": "@jupyter-widgets/controls",
            "_view_module_version": "1.5.0",
            "_view_name": "HTMLView",
            "description": "",
            "description_tooltip": null,
            "layout": "IPY_MODEL_97ba3a770b164c7c81495a2c3d0f2d2a",
            "placeholder": "​",
            "style": "IPY_MODEL_24109de38ed34ebc8a037054d7b6231c",
            "value": " 62155/62155 [00:11&lt;00:00, 5354.51it/s]"
          }
        },
        "84984de2e1934a11b3106deda13fcb9f": {
          "model_module": "@jupyter-widgets/base",
          "model_name": "LayoutModel",
          "model_module_version": "1.2.0",
          "state": {
            "_model_module": "@jupyter-widgets/base",
            "_model_module_version": "1.2.0",
            "_model_name": "LayoutModel",
            "_view_count": null,
            "_view_module": "@jupyter-widgets/base",
            "_view_module_version": "1.2.0",
            "_view_name": "LayoutView",
            "align_content": null,
            "align_items": null,
            "align_self": null,
            "border": null,
            "bottom": null,
            "display": null,
            "flex": null,
            "flex_flow": null,
            "grid_area": null,
            "grid_auto_columns": null,
            "grid_auto_flow": null,
            "grid_auto_rows": null,
            "grid_column": null,
            "grid_gap": null,
            "grid_row": null,
            "grid_template_areas": null,
            "grid_template_columns": null,
            "grid_template_rows": null,
            "height": null,
            "justify_content": null,
            "justify_items": null,
            "left": null,
            "margin": null,
            "max_height": null,
            "max_width": null,
            "min_height": null,
            "min_width": null,
            "object_fit": null,
            "object_position": null,
            "order": null,
            "overflow": null,
            "overflow_x": null,
            "overflow_y": null,
            "padding": null,
            "right": null,
            "top": null,
            "visibility": null,
            "width": null
          }
        },
        "dd827142df944258a954d569a45244e9": {
          "model_module": "@jupyter-widgets/base",
          "model_name": "LayoutModel",
          "model_module_version": "1.2.0",
          "state": {
            "_model_module": "@jupyter-widgets/base",
            "_model_module_version": "1.2.0",
            "_model_name": "LayoutModel",
            "_view_count": null,
            "_view_module": "@jupyter-widgets/base",
            "_view_module_version": "1.2.0",
            "_view_name": "LayoutView",
            "align_content": null,
            "align_items": null,
            "align_self": null,
            "border": null,
            "bottom": null,
            "display": null,
            "flex": null,
            "flex_flow": null,
            "grid_area": null,
            "grid_auto_columns": null,
            "grid_auto_flow": null,
            "grid_auto_rows": null,
            "grid_column": null,
            "grid_gap": null,
            "grid_row": null,
            "grid_template_areas": null,
            "grid_template_columns": null,
            "grid_template_rows": null,
            "height": null,
            "justify_content": null,
            "justify_items": null,
            "left": null,
            "margin": null,
            "max_height": null,
            "max_width": null,
            "min_height": null,
            "min_width": null,
            "object_fit": null,
            "object_position": null,
            "order": null,
            "overflow": null,
            "overflow_x": null,
            "overflow_y": null,
            "padding": null,
            "right": null,
            "top": null,
            "visibility": null,
            "width": null
          }
        },
        "2307c63044be4052b9fca6dc3e72a682": {
          "model_module": "@jupyter-widgets/controls",
          "model_name": "DescriptionStyleModel",
          "model_module_version": "1.5.0",
          "state": {
            "_model_module": "@jupyter-widgets/controls",
            "_model_module_version": "1.5.0",
            "_model_name": "DescriptionStyleModel",
            "_view_count": null,
            "_view_module": "@jupyter-widgets/base",
            "_view_module_version": "1.2.0",
            "_view_name": "StyleView",
            "description_width": ""
          }
        },
        "13be9cdc64194793ae8ed7466830677e": {
          "model_module": "@jupyter-widgets/base",
          "model_name": "LayoutModel",
          "model_module_version": "1.2.0",
          "state": {
            "_model_module": "@jupyter-widgets/base",
            "_model_module_version": "1.2.0",
            "_model_name": "LayoutModel",
            "_view_count": null,
            "_view_module": "@jupyter-widgets/base",
            "_view_module_version": "1.2.0",
            "_view_name": "LayoutView",
            "align_content": null,
            "align_items": null,
            "align_self": null,
            "border": null,
            "bottom": null,
            "display": null,
            "flex": null,
            "flex_flow": null,
            "grid_area": null,
            "grid_auto_columns": null,
            "grid_auto_flow": null,
            "grid_auto_rows": null,
            "grid_column": null,
            "grid_gap": null,
            "grid_row": null,
            "grid_template_areas": null,
            "grid_template_columns": null,
            "grid_template_rows": null,
            "height": null,
            "justify_content": null,
            "justify_items": null,
            "left": null,
            "margin": null,
            "max_height": null,
            "max_width": null,
            "min_height": null,
            "min_width": null,
            "object_fit": null,
            "object_position": null,
            "order": null,
            "overflow": null,
            "overflow_x": null,
            "overflow_y": null,
            "padding": null,
            "right": null,
            "top": null,
            "visibility": null,
            "width": null
          }
        },
        "f0002312329b4315889541b3df6b003e": {
          "model_module": "@jupyter-widgets/controls",
          "model_name": "ProgressStyleModel",
          "model_module_version": "1.5.0",
          "state": {
            "_model_module": "@jupyter-widgets/controls",
            "_model_module_version": "1.5.0",
            "_model_name": "ProgressStyleModel",
            "_view_count": null,
            "_view_module": "@jupyter-widgets/base",
            "_view_module_version": "1.2.0",
            "_view_name": "StyleView",
            "bar_color": null,
            "description_width": ""
          }
        },
        "97ba3a770b164c7c81495a2c3d0f2d2a": {
          "model_module": "@jupyter-widgets/base",
          "model_name": "LayoutModel",
          "model_module_version": "1.2.0",
          "state": {
            "_model_module": "@jupyter-widgets/base",
            "_model_module_version": "1.2.0",
            "_model_name": "LayoutModel",
            "_view_count": null,
            "_view_module": "@jupyter-widgets/base",
            "_view_module_version": "1.2.0",
            "_view_name": "LayoutView",
            "align_content": null,
            "align_items": null,
            "align_self": null,
            "border": null,
            "bottom": null,
            "display": null,
            "flex": null,
            "flex_flow": null,
            "grid_area": null,
            "grid_auto_columns": null,
            "grid_auto_flow": null,
            "grid_auto_rows": null,
            "grid_column": null,
            "grid_gap": null,
            "grid_row": null,
            "grid_template_areas": null,
            "grid_template_columns": null,
            "grid_template_rows": null,
            "height": null,
            "justify_content": null,
            "justify_items": null,
            "left": null,
            "margin": null,
            "max_height": null,
            "max_width": null,
            "min_height": null,
            "min_width": null,
            "object_fit": null,
            "object_position": null,
            "order": null,
            "overflow": null,
            "overflow_x": null,
            "overflow_y": null,
            "padding": null,
            "right": null,
            "top": null,
            "visibility": null,
            "width": null
          }
        },
        "24109de38ed34ebc8a037054d7b6231c": {
          "model_module": "@jupyter-widgets/controls",
          "model_name": "DescriptionStyleModel",
          "model_module_version": "1.5.0",
          "state": {
            "_model_module": "@jupyter-widgets/controls",
            "_model_module_version": "1.5.0",
            "_model_name": "DescriptionStyleModel",
            "_view_count": null,
            "_view_module": "@jupyter-widgets/base",
            "_view_module_version": "1.2.0",
            "_view_name": "StyleView",
            "description_width": ""
          }
        },
        "9d34606e6a68441b81513b141ceb1f8c": {
          "model_module": "@jupyter-widgets/controls",
          "model_name": "HBoxModel",
          "model_module_version": "1.5.0",
          "state": {
            "_dom_classes": [],
            "_model_module": "@jupyter-widgets/controls",
            "_model_module_version": "1.5.0",
            "_model_name": "HBoxModel",
            "_view_count": null,
            "_view_module": "@jupyter-widgets/controls",
            "_view_module_version": "1.5.0",
            "_view_name": "HBoxView",
            "box_style": "",
            "children": [
              "IPY_MODEL_6dd0a44edffc4e83a26ae7e346929602",
              "IPY_MODEL_fa56624ec5f646faa2a8b4d0d764e7a8",
              "IPY_MODEL_9c1d194ab2754e77844b5267da9d98c5"
            ],
            "layout": "IPY_MODEL_0954870c4a1f4b49bb437868c7936164"
          }
        },
        "6dd0a44edffc4e83a26ae7e346929602": {
          "model_module": "@jupyter-widgets/controls",
          "model_name": "HTMLModel",
          "model_module_version": "1.5.0",
          "state": {
            "_dom_classes": [],
            "_model_module": "@jupyter-widgets/controls",
            "_model_module_version": "1.5.0",
            "_model_name": "HTMLModel",
            "_view_count": null,
            "_view_module": "@jupyter-widgets/controls",
            "_view_module_version": "1.5.0",
            "_view_name": "HTMLView",
            "description": "",
            "description_tooltip": null,
            "layout": "IPY_MODEL_9567b9b140e4480c8d675bdddbc38643",
            "placeholder": "​",
            "style": "IPY_MODEL_aadf22e72fdb47689848a35d3a071c71",
            "value": "100%"
          }
        },
        "fa56624ec5f646faa2a8b4d0d764e7a8": {
          "model_module": "@jupyter-widgets/controls",
          "model_name": "FloatProgressModel",
          "model_module_version": "1.5.0",
          "state": {
            "_dom_classes": [],
            "_model_module": "@jupyter-widgets/controls",
            "_model_module_version": "1.5.0",
            "_model_name": "FloatProgressModel",
            "_view_count": null,
            "_view_module": "@jupyter-widgets/controls",
            "_view_module_version": "1.5.0",
            "_view_name": "ProgressView",
            "bar_style": "success",
            "description": "",
            "description_tooltip": null,
            "layout": "IPY_MODEL_db3ef9f79ba94bdb83dfa0c68685a86d",
            "max": 62155,
            "min": 0,
            "orientation": "horizontal",
            "style": "IPY_MODEL_b16666d58c124dcda2d5f37663600f3e",
            "value": 62155
          }
        },
        "9c1d194ab2754e77844b5267da9d98c5": {
          "model_module": "@jupyter-widgets/controls",
          "model_name": "HTMLModel",
          "model_module_version": "1.5.0",
          "state": {
            "_dom_classes": [],
            "_model_module": "@jupyter-widgets/controls",
            "_model_module_version": "1.5.0",
            "_model_name": "HTMLModel",
            "_view_count": null,
            "_view_module": "@jupyter-widgets/controls",
            "_view_module_version": "1.5.0",
            "_view_name": "HTMLView",
            "description": "",
            "description_tooltip": null,
            "layout": "IPY_MODEL_e974130ded364323a52ed1a04421bf11",
            "placeholder": "​",
            "style": "IPY_MODEL_fbe5072d92f542468d31acb5139a8951",
            "value": " 62155/62155 [00:09&lt;00:00, 6234.53it/s]"
          }
        },
        "0954870c4a1f4b49bb437868c7936164": {
          "model_module": "@jupyter-widgets/base",
          "model_name": "LayoutModel",
          "model_module_version": "1.2.0",
          "state": {
            "_model_module": "@jupyter-widgets/base",
            "_model_module_version": "1.2.0",
            "_model_name": "LayoutModel",
            "_view_count": null,
            "_view_module": "@jupyter-widgets/base",
            "_view_module_version": "1.2.0",
            "_view_name": "LayoutView",
            "align_content": null,
            "align_items": null,
            "align_self": null,
            "border": null,
            "bottom": null,
            "display": null,
            "flex": null,
            "flex_flow": null,
            "grid_area": null,
            "grid_auto_columns": null,
            "grid_auto_flow": null,
            "grid_auto_rows": null,
            "grid_column": null,
            "grid_gap": null,
            "grid_row": null,
            "grid_template_areas": null,
            "grid_template_columns": null,
            "grid_template_rows": null,
            "height": null,
            "justify_content": null,
            "justify_items": null,
            "left": null,
            "margin": null,
            "max_height": null,
            "max_width": null,
            "min_height": null,
            "min_width": null,
            "object_fit": null,
            "object_position": null,
            "order": null,
            "overflow": null,
            "overflow_x": null,
            "overflow_y": null,
            "padding": null,
            "right": null,
            "top": null,
            "visibility": null,
            "width": null
          }
        },
        "9567b9b140e4480c8d675bdddbc38643": {
          "model_module": "@jupyter-widgets/base",
          "model_name": "LayoutModel",
          "model_module_version": "1.2.0",
          "state": {
            "_model_module": "@jupyter-widgets/base",
            "_model_module_version": "1.2.0",
            "_model_name": "LayoutModel",
            "_view_count": null,
            "_view_module": "@jupyter-widgets/base",
            "_view_module_version": "1.2.0",
            "_view_name": "LayoutView",
            "align_content": null,
            "align_items": null,
            "align_self": null,
            "border": null,
            "bottom": null,
            "display": null,
            "flex": null,
            "flex_flow": null,
            "grid_area": null,
            "grid_auto_columns": null,
            "grid_auto_flow": null,
            "grid_auto_rows": null,
            "grid_column": null,
            "grid_gap": null,
            "grid_row": null,
            "grid_template_areas": null,
            "grid_template_columns": null,
            "grid_template_rows": null,
            "height": null,
            "justify_content": null,
            "justify_items": null,
            "left": null,
            "margin": null,
            "max_height": null,
            "max_width": null,
            "min_height": null,
            "min_width": null,
            "object_fit": null,
            "object_position": null,
            "order": null,
            "overflow": null,
            "overflow_x": null,
            "overflow_y": null,
            "padding": null,
            "right": null,
            "top": null,
            "visibility": null,
            "width": null
          }
        },
        "aadf22e72fdb47689848a35d3a071c71": {
          "model_module": "@jupyter-widgets/controls",
          "model_name": "DescriptionStyleModel",
          "model_module_version": "1.5.0",
          "state": {
            "_model_module": "@jupyter-widgets/controls",
            "_model_module_version": "1.5.0",
            "_model_name": "DescriptionStyleModel",
            "_view_count": null,
            "_view_module": "@jupyter-widgets/base",
            "_view_module_version": "1.2.0",
            "_view_name": "StyleView",
            "description_width": ""
          }
        },
        "db3ef9f79ba94bdb83dfa0c68685a86d": {
          "model_module": "@jupyter-widgets/base",
          "model_name": "LayoutModel",
          "model_module_version": "1.2.0",
          "state": {
            "_model_module": "@jupyter-widgets/base",
            "_model_module_version": "1.2.0",
            "_model_name": "LayoutModel",
            "_view_count": null,
            "_view_module": "@jupyter-widgets/base",
            "_view_module_version": "1.2.0",
            "_view_name": "LayoutView",
            "align_content": null,
            "align_items": null,
            "align_self": null,
            "border": null,
            "bottom": null,
            "display": null,
            "flex": null,
            "flex_flow": null,
            "grid_area": null,
            "grid_auto_columns": null,
            "grid_auto_flow": null,
            "grid_auto_rows": null,
            "grid_column": null,
            "grid_gap": null,
            "grid_row": null,
            "grid_template_areas": null,
            "grid_template_columns": null,
            "grid_template_rows": null,
            "height": null,
            "justify_content": null,
            "justify_items": null,
            "left": null,
            "margin": null,
            "max_height": null,
            "max_width": null,
            "min_height": null,
            "min_width": null,
            "object_fit": null,
            "object_position": null,
            "order": null,
            "overflow": null,
            "overflow_x": null,
            "overflow_y": null,
            "padding": null,
            "right": null,
            "top": null,
            "visibility": null,
            "width": null
          }
        },
        "b16666d58c124dcda2d5f37663600f3e": {
          "model_module": "@jupyter-widgets/controls",
          "model_name": "ProgressStyleModel",
          "model_module_version": "1.5.0",
          "state": {
            "_model_module": "@jupyter-widgets/controls",
            "_model_module_version": "1.5.0",
            "_model_name": "ProgressStyleModel",
            "_view_count": null,
            "_view_module": "@jupyter-widgets/base",
            "_view_module_version": "1.2.0",
            "_view_name": "StyleView",
            "bar_color": null,
            "description_width": ""
          }
        },
        "e974130ded364323a52ed1a04421bf11": {
          "model_module": "@jupyter-widgets/base",
          "model_name": "LayoutModel",
          "model_module_version": "1.2.0",
          "state": {
            "_model_module": "@jupyter-widgets/base",
            "_model_module_version": "1.2.0",
            "_model_name": "LayoutModel",
            "_view_count": null,
            "_view_module": "@jupyter-widgets/base",
            "_view_module_version": "1.2.0",
            "_view_name": "LayoutView",
            "align_content": null,
            "align_items": null,
            "align_self": null,
            "border": null,
            "bottom": null,
            "display": null,
            "flex": null,
            "flex_flow": null,
            "grid_area": null,
            "grid_auto_columns": null,
            "grid_auto_flow": null,
            "grid_auto_rows": null,
            "grid_column": null,
            "grid_gap": null,
            "grid_row": null,
            "grid_template_areas": null,
            "grid_template_columns": null,
            "grid_template_rows": null,
            "height": null,
            "justify_content": null,
            "justify_items": null,
            "left": null,
            "margin": null,
            "max_height": null,
            "max_width": null,
            "min_height": null,
            "min_width": null,
            "object_fit": null,
            "object_position": null,
            "order": null,
            "overflow": null,
            "overflow_x": null,
            "overflow_y": null,
            "padding": null,
            "right": null,
            "top": null,
            "visibility": null,
            "width": null
          }
        },
        "fbe5072d92f542468d31acb5139a8951": {
          "model_module": "@jupyter-widgets/controls",
          "model_name": "DescriptionStyleModel",
          "model_module_version": "1.5.0",
          "state": {
            "_model_module": "@jupyter-widgets/controls",
            "_model_module_version": "1.5.0",
            "_model_name": "DescriptionStyleModel",
            "_view_count": null,
            "_view_module": "@jupyter-widgets/base",
            "_view_module_version": "1.2.0",
            "_view_name": "StyleView",
            "description_width": ""
          }
        },
        "51e785979c29480db4e5e72dd1d8a9c0": {
          "model_module": "@jupyter-widgets/controls",
          "model_name": "HBoxModel",
          "model_module_version": "1.5.0",
          "state": {
            "_dom_classes": [],
            "_model_module": "@jupyter-widgets/controls",
            "_model_module_version": "1.5.0",
            "_model_name": "HBoxModel",
            "_view_count": null,
            "_view_module": "@jupyter-widgets/controls",
            "_view_module_version": "1.5.0",
            "_view_name": "HBoxView",
            "box_style": "",
            "children": [
              "IPY_MODEL_edeb90f49e6e4ece8f613cb8154cfd66",
              "IPY_MODEL_f016f253fc5e4bef85b8dadea2a3d642",
              "IPY_MODEL_483e343c3b2248358fda257f9ec980a3"
            ],
            "layout": "IPY_MODEL_697aca0192f44be5875d877a6380e49d"
          }
        },
        "edeb90f49e6e4ece8f613cb8154cfd66": {
          "model_module": "@jupyter-widgets/controls",
          "model_name": "HTMLModel",
          "model_module_version": "1.5.0",
          "state": {
            "_dom_classes": [],
            "_model_module": "@jupyter-widgets/controls",
            "_model_module_version": "1.5.0",
            "_model_name": "HTMLModel",
            "_view_count": null,
            "_view_module": "@jupyter-widgets/controls",
            "_view_module_version": "1.5.0",
            "_view_name": "HTMLView",
            "description": "",
            "description_tooltip": null,
            "layout": "IPY_MODEL_51c0e588cbdc46ff95cd8732515ddb84",
            "placeholder": "​",
            "style": "IPY_MODEL_a1ae466dd92946ae87a67e88cb3ba21d",
            "value": "100%"
          }
        },
        "f016f253fc5e4bef85b8dadea2a3d642": {
          "model_module": "@jupyter-widgets/controls",
          "model_name": "FloatProgressModel",
          "model_module_version": "1.5.0",
          "state": {
            "_dom_classes": [],
            "_model_module": "@jupyter-widgets/controls",
            "_model_module_version": "1.5.0",
            "_model_name": "FloatProgressModel",
            "_view_count": null,
            "_view_module": "@jupyter-widgets/controls",
            "_view_module_version": "1.5.0",
            "_view_name": "ProgressView",
            "bar_style": "success",
            "description": "",
            "description_tooltip": null,
            "layout": "IPY_MODEL_371ed78b4a5a45e5a66872ba77882815",
            "max": 2,
            "min": 0,
            "orientation": "horizontal",
            "style": "IPY_MODEL_85b063aac2f043d88fe9aedd2479dd33",
            "value": 2
          }
        },
        "483e343c3b2248358fda257f9ec980a3": {
          "model_module": "@jupyter-widgets/controls",
          "model_name": "HTMLModel",
          "model_module_version": "1.5.0",
          "state": {
            "_dom_classes": [],
            "_model_module": "@jupyter-widgets/controls",
            "_model_module_version": "1.5.0",
            "_model_name": "HTMLModel",
            "_view_count": null,
            "_view_module": "@jupyter-widgets/controls",
            "_view_module_version": "1.5.0",
            "_view_name": "HTMLView",
            "description": "",
            "description_tooltip": null,
            "layout": "IPY_MODEL_b11972b1f2954ebd8c4526d1f08a44ca",
            "placeholder": "​",
            "style": "IPY_MODEL_42ffb061437042a881bebc937c4492a1",
            "value": " 2/2 [00:00&lt;00:00, 87.85it/s]"
          }
        },
        "697aca0192f44be5875d877a6380e49d": {
          "model_module": "@jupyter-widgets/base",
          "model_name": "LayoutModel",
          "model_module_version": "1.2.0",
          "state": {
            "_model_module": "@jupyter-widgets/base",
            "_model_module_version": "1.2.0",
            "_model_name": "LayoutModel",
            "_view_count": null,
            "_view_module": "@jupyter-widgets/base",
            "_view_module_version": "1.2.0",
            "_view_name": "LayoutView",
            "align_content": null,
            "align_items": null,
            "align_self": null,
            "border": null,
            "bottom": null,
            "display": null,
            "flex": null,
            "flex_flow": null,
            "grid_area": null,
            "grid_auto_columns": null,
            "grid_auto_flow": null,
            "grid_auto_rows": null,
            "grid_column": null,
            "grid_gap": null,
            "grid_row": null,
            "grid_template_areas": null,
            "grid_template_columns": null,
            "grid_template_rows": null,
            "height": null,
            "justify_content": null,
            "justify_items": null,
            "left": null,
            "margin": null,
            "max_height": null,
            "max_width": null,
            "min_height": null,
            "min_width": null,
            "object_fit": null,
            "object_position": null,
            "order": null,
            "overflow": null,
            "overflow_x": null,
            "overflow_y": null,
            "padding": null,
            "right": null,
            "top": null,
            "visibility": null,
            "width": null
          }
        },
        "51c0e588cbdc46ff95cd8732515ddb84": {
          "model_module": "@jupyter-widgets/base",
          "model_name": "LayoutModel",
          "model_module_version": "1.2.0",
          "state": {
            "_model_module": "@jupyter-widgets/base",
            "_model_module_version": "1.2.0",
            "_model_name": "LayoutModel",
            "_view_count": null,
            "_view_module": "@jupyter-widgets/base",
            "_view_module_version": "1.2.0",
            "_view_name": "LayoutView",
            "align_content": null,
            "align_items": null,
            "align_self": null,
            "border": null,
            "bottom": null,
            "display": null,
            "flex": null,
            "flex_flow": null,
            "grid_area": null,
            "grid_auto_columns": null,
            "grid_auto_flow": null,
            "grid_auto_rows": null,
            "grid_column": null,
            "grid_gap": null,
            "grid_row": null,
            "grid_template_areas": null,
            "grid_template_columns": null,
            "grid_template_rows": null,
            "height": null,
            "justify_content": null,
            "justify_items": null,
            "left": null,
            "margin": null,
            "max_height": null,
            "max_width": null,
            "min_height": null,
            "min_width": null,
            "object_fit": null,
            "object_position": null,
            "order": null,
            "overflow": null,
            "overflow_x": null,
            "overflow_y": null,
            "padding": null,
            "right": null,
            "top": null,
            "visibility": null,
            "width": null
          }
        },
        "a1ae466dd92946ae87a67e88cb3ba21d": {
          "model_module": "@jupyter-widgets/controls",
          "model_name": "DescriptionStyleModel",
          "model_module_version": "1.5.0",
          "state": {
            "_model_module": "@jupyter-widgets/controls",
            "_model_module_version": "1.5.0",
            "_model_name": "DescriptionStyleModel",
            "_view_count": null,
            "_view_module": "@jupyter-widgets/base",
            "_view_module_version": "1.2.0",
            "_view_name": "StyleView",
            "description_width": ""
          }
        },
        "371ed78b4a5a45e5a66872ba77882815": {
          "model_module": "@jupyter-widgets/base",
          "model_name": "LayoutModel",
          "model_module_version": "1.2.0",
          "state": {
            "_model_module": "@jupyter-widgets/base",
            "_model_module_version": "1.2.0",
            "_model_name": "LayoutModel",
            "_view_count": null,
            "_view_module": "@jupyter-widgets/base",
            "_view_module_version": "1.2.0",
            "_view_name": "LayoutView",
            "align_content": null,
            "align_items": null,
            "align_self": null,
            "border": null,
            "bottom": null,
            "display": null,
            "flex": null,
            "flex_flow": null,
            "grid_area": null,
            "grid_auto_columns": null,
            "grid_auto_flow": null,
            "grid_auto_rows": null,
            "grid_column": null,
            "grid_gap": null,
            "grid_row": null,
            "grid_template_areas": null,
            "grid_template_columns": null,
            "grid_template_rows": null,
            "height": null,
            "justify_content": null,
            "justify_items": null,
            "left": null,
            "margin": null,
            "max_height": null,
            "max_width": null,
            "min_height": null,
            "min_width": null,
            "object_fit": null,
            "object_position": null,
            "order": null,
            "overflow": null,
            "overflow_x": null,
            "overflow_y": null,
            "padding": null,
            "right": null,
            "top": null,
            "visibility": null,
            "width": null
          }
        },
        "85b063aac2f043d88fe9aedd2479dd33": {
          "model_module": "@jupyter-widgets/controls",
          "model_name": "ProgressStyleModel",
          "model_module_version": "1.5.0",
          "state": {
            "_model_module": "@jupyter-widgets/controls",
            "_model_module_version": "1.5.0",
            "_model_name": "ProgressStyleModel",
            "_view_count": null,
            "_view_module": "@jupyter-widgets/base",
            "_view_module_version": "1.2.0",
            "_view_name": "StyleView",
            "bar_color": null,
            "description_width": ""
          }
        },
        "b11972b1f2954ebd8c4526d1f08a44ca": {
          "model_module": "@jupyter-widgets/base",
          "model_name": "LayoutModel",
          "model_module_version": "1.2.0",
          "state": {
            "_model_module": "@jupyter-widgets/base",
            "_model_module_version": "1.2.0",
            "_model_name": "LayoutModel",
            "_view_count": null,
            "_view_module": "@jupyter-widgets/base",
            "_view_module_version": "1.2.0",
            "_view_name": "LayoutView",
            "align_content": null,
            "align_items": null,
            "align_self": null,
            "border": null,
            "bottom": null,
            "display": null,
            "flex": null,
            "flex_flow": null,
            "grid_area": null,
            "grid_auto_columns": null,
            "grid_auto_flow": null,
            "grid_auto_rows": null,
            "grid_column": null,
            "grid_gap": null,
            "grid_row": null,
            "grid_template_areas": null,
            "grid_template_columns": null,
            "grid_template_rows": null,
            "height": null,
            "justify_content": null,
            "justify_items": null,
            "left": null,
            "margin": null,
            "max_height": null,
            "max_width": null,
            "min_height": null,
            "min_width": null,
            "object_fit": null,
            "object_position": null,
            "order": null,
            "overflow": null,
            "overflow_x": null,
            "overflow_y": null,
            "padding": null,
            "right": null,
            "top": null,
            "visibility": null,
            "width": null
          }
        },
        "42ffb061437042a881bebc937c4492a1": {
          "model_module": "@jupyter-widgets/controls",
          "model_name": "DescriptionStyleModel",
          "model_module_version": "1.5.0",
          "state": {
            "_model_module": "@jupyter-widgets/controls",
            "_model_module_version": "1.5.0",
            "_model_name": "DescriptionStyleModel",
            "_view_count": null,
            "_view_module": "@jupyter-widgets/base",
            "_view_module_version": "1.2.0",
            "_view_name": "StyleView",
            "description_width": ""
          }
        },
        "b0692357ce5a4b3b913c6a6bbd2aba42": {
          "model_module": "@jupyter-widgets/controls",
          "model_name": "HBoxModel",
          "model_module_version": "1.5.0",
          "state": {
            "_dom_classes": [],
            "_model_module": "@jupyter-widgets/controls",
            "_model_module_version": "1.5.0",
            "_model_name": "HBoxModel",
            "_view_count": null,
            "_view_module": "@jupyter-widgets/controls",
            "_view_module_version": "1.5.0",
            "_view_name": "HBoxView",
            "box_style": "",
            "children": [
              "IPY_MODEL_3fbdf42efcd74c6c91519ac6c0d5917c",
              "IPY_MODEL_7b06c87e0537462d8fbb4b78e1bc4916",
              "IPY_MODEL_ad1388640aa64435bdd566c6c3ba8b9a"
            ],
            "layout": "IPY_MODEL_816795d0aa9f4ffea57b89a7bdd567ea"
          }
        },
        "3fbdf42efcd74c6c91519ac6c0d5917c": {
          "model_module": "@jupyter-widgets/controls",
          "model_name": "HTMLModel",
          "model_module_version": "1.5.0",
          "state": {
            "_dom_classes": [],
            "_model_module": "@jupyter-widgets/controls",
            "_model_module_version": "1.5.0",
            "_model_name": "HTMLModel",
            "_view_count": null,
            "_view_module": "@jupyter-widgets/controls",
            "_view_module_version": "1.5.0",
            "_view_name": "HTMLView",
            "description": "",
            "description_tooltip": null,
            "layout": "IPY_MODEL_007f5dc240bf4d138d2eda9f96332f2b",
            "placeholder": "​",
            "style": "IPY_MODEL_3bb3bda43ccb4afe80a40fda22803658",
            "value": "100%"
          }
        },
        "7b06c87e0537462d8fbb4b78e1bc4916": {
          "model_module": "@jupyter-widgets/controls",
          "model_name": "FloatProgressModel",
          "model_module_version": "1.5.0",
          "state": {
            "_dom_classes": [],
            "_model_module": "@jupyter-widgets/controls",
            "_model_module_version": "1.5.0",
            "_model_name": "FloatProgressModel",
            "_view_count": null,
            "_view_module": "@jupyter-widgets/controls",
            "_view_module_version": "1.5.0",
            "_view_name": "ProgressView",
            "bar_style": "success",
            "description": "",
            "description_tooltip": null,
            "layout": "IPY_MODEL_fa1b08d47e0c4ee8b0fabbb76dae8087",
            "max": 62155,
            "min": 0,
            "orientation": "horizontal",
            "style": "IPY_MODEL_7b1c791fb79a439fa0fadf3cca9287dc",
            "value": 62155
          }
        },
        "ad1388640aa64435bdd566c6c3ba8b9a": {
          "model_module": "@jupyter-widgets/controls",
          "model_name": "HTMLModel",
          "model_module_version": "1.5.0",
          "state": {
            "_dom_classes": [],
            "_model_module": "@jupyter-widgets/controls",
            "_model_module_version": "1.5.0",
            "_model_name": "HTMLModel",
            "_view_count": null,
            "_view_module": "@jupyter-widgets/controls",
            "_view_module_version": "1.5.0",
            "_view_name": "HTMLView",
            "description": "",
            "description_tooltip": null,
            "layout": "IPY_MODEL_203030f1ea854a5db4adf824b9305bfb",
            "placeholder": "​",
            "style": "IPY_MODEL_4c3f02cdaf5f43bab4009d66275e8083",
            "value": " 62155/62155 [00:09&lt;00:00, 6437.29it/s]"
          }
        },
        "816795d0aa9f4ffea57b89a7bdd567ea": {
          "model_module": "@jupyter-widgets/base",
          "model_name": "LayoutModel",
          "model_module_version": "1.2.0",
          "state": {
            "_model_module": "@jupyter-widgets/base",
            "_model_module_version": "1.2.0",
            "_model_name": "LayoutModel",
            "_view_count": null,
            "_view_module": "@jupyter-widgets/base",
            "_view_module_version": "1.2.0",
            "_view_name": "LayoutView",
            "align_content": null,
            "align_items": null,
            "align_self": null,
            "border": null,
            "bottom": null,
            "display": null,
            "flex": null,
            "flex_flow": null,
            "grid_area": null,
            "grid_auto_columns": null,
            "grid_auto_flow": null,
            "grid_auto_rows": null,
            "grid_column": null,
            "grid_gap": null,
            "grid_row": null,
            "grid_template_areas": null,
            "grid_template_columns": null,
            "grid_template_rows": null,
            "height": null,
            "justify_content": null,
            "justify_items": null,
            "left": null,
            "margin": null,
            "max_height": null,
            "max_width": null,
            "min_height": null,
            "min_width": null,
            "object_fit": null,
            "object_position": null,
            "order": null,
            "overflow": null,
            "overflow_x": null,
            "overflow_y": null,
            "padding": null,
            "right": null,
            "top": null,
            "visibility": null,
            "width": null
          }
        },
        "007f5dc240bf4d138d2eda9f96332f2b": {
          "model_module": "@jupyter-widgets/base",
          "model_name": "LayoutModel",
          "model_module_version": "1.2.0",
          "state": {
            "_model_module": "@jupyter-widgets/base",
            "_model_module_version": "1.2.0",
            "_model_name": "LayoutModel",
            "_view_count": null,
            "_view_module": "@jupyter-widgets/base",
            "_view_module_version": "1.2.0",
            "_view_name": "LayoutView",
            "align_content": null,
            "align_items": null,
            "align_self": null,
            "border": null,
            "bottom": null,
            "display": null,
            "flex": null,
            "flex_flow": null,
            "grid_area": null,
            "grid_auto_columns": null,
            "grid_auto_flow": null,
            "grid_auto_rows": null,
            "grid_column": null,
            "grid_gap": null,
            "grid_row": null,
            "grid_template_areas": null,
            "grid_template_columns": null,
            "grid_template_rows": null,
            "height": null,
            "justify_content": null,
            "justify_items": null,
            "left": null,
            "margin": null,
            "max_height": null,
            "max_width": null,
            "min_height": null,
            "min_width": null,
            "object_fit": null,
            "object_position": null,
            "order": null,
            "overflow": null,
            "overflow_x": null,
            "overflow_y": null,
            "padding": null,
            "right": null,
            "top": null,
            "visibility": null,
            "width": null
          }
        },
        "3bb3bda43ccb4afe80a40fda22803658": {
          "model_module": "@jupyter-widgets/controls",
          "model_name": "DescriptionStyleModel",
          "model_module_version": "1.5.0",
          "state": {
            "_model_module": "@jupyter-widgets/controls",
            "_model_module_version": "1.5.0",
            "_model_name": "DescriptionStyleModel",
            "_view_count": null,
            "_view_module": "@jupyter-widgets/base",
            "_view_module_version": "1.2.0",
            "_view_name": "StyleView",
            "description_width": ""
          }
        },
        "fa1b08d47e0c4ee8b0fabbb76dae8087": {
          "model_module": "@jupyter-widgets/base",
          "model_name": "LayoutModel",
          "model_module_version": "1.2.0",
          "state": {
            "_model_module": "@jupyter-widgets/base",
            "_model_module_version": "1.2.0",
            "_model_name": "LayoutModel",
            "_view_count": null,
            "_view_module": "@jupyter-widgets/base",
            "_view_module_version": "1.2.0",
            "_view_name": "LayoutView",
            "align_content": null,
            "align_items": null,
            "align_self": null,
            "border": null,
            "bottom": null,
            "display": null,
            "flex": null,
            "flex_flow": null,
            "grid_area": null,
            "grid_auto_columns": null,
            "grid_auto_flow": null,
            "grid_auto_rows": null,
            "grid_column": null,
            "grid_gap": null,
            "grid_row": null,
            "grid_template_areas": null,
            "grid_template_columns": null,
            "grid_template_rows": null,
            "height": null,
            "justify_content": null,
            "justify_items": null,
            "left": null,
            "margin": null,
            "max_height": null,
            "max_width": null,
            "min_height": null,
            "min_width": null,
            "object_fit": null,
            "object_position": null,
            "order": null,
            "overflow": null,
            "overflow_x": null,
            "overflow_y": null,
            "padding": null,
            "right": null,
            "top": null,
            "visibility": null,
            "width": null
          }
        },
        "7b1c791fb79a439fa0fadf3cca9287dc": {
          "model_module": "@jupyter-widgets/controls",
          "model_name": "ProgressStyleModel",
          "model_module_version": "1.5.0",
          "state": {
            "_model_module": "@jupyter-widgets/controls",
            "_model_module_version": "1.5.0",
            "_model_name": "ProgressStyleModel",
            "_view_count": null,
            "_view_module": "@jupyter-widgets/base",
            "_view_module_version": "1.2.0",
            "_view_name": "StyleView",
            "bar_color": null,
            "description_width": ""
          }
        },
        "203030f1ea854a5db4adf824b9305bfb": {
          "model_module": "@jupyter-widgets/base",
          "model_name": "LayoutModel",
          "model_module_version": "1.2.0",
          "state": {
            "_model_module": "@jupyter-widgets/base",
            "_model_module_version": "1.2.0",
            "_model_name": "LayoutModel",
            "_view_count": null,
            "_view_module": "@jupyter-widgets/base",
            "_view_module_version": "1.2.0",
            "_view_name": "LayoutView",
            "align_content": null,
            "align_items": null,
            "align_self": null,
            "border": null,
            "bottom": null,
            "display": null,
            "flex": null,
            "flex_flow": null,
            "grid_area": null,
            "grid_auto_columns": null,
            "grid_auto_flow": null,
            "grid_auto_rows": null,
            "grid_column": null,
            "grid_gap": null,
            "grid_row": null,
            "grid_template_areas": null,
            "grid_template_columns": null,
            "grid_template_rows": null,
            "height": null,
            "justify_content": null,
            "justify_items": null,
            "left": null,
            "margin": null,
            "max_height": null,
            "max_width": null,
            "min_height": null,
            "min_width": null,
            "object_fit": null,
            "object_position": null,
            "order": null,
            "overflow": null,
            "overflow_x": null,
            "overflow_y": null,
            "padding": null,
            "right": null,
            "top": null,
            "visibility": null,
            "width": null
          }
        },
        "4c3f02cdaf5f43bab4009d66275e8083": {
          "model_module": "@jupyter-widgets/controls",
          "model_name": "DescriptionStyleModel",
          "model_module_version": "1.5.0",
          "state": {
            "_model_module": "@jupyter-widgets/controls",
            "_model_module_version": "1.5.0",
            "_model_name": "DescriptionStyleModel",
            "_view_count": null,
            "_view_module": "@jupyter-widgets/base",
            "_view_module_version": "1.2.0",
            "_view_name": "StyleView",
            "description_width": ""
          }
        },
        "584e477b66e148b3b0d019acbccedcb8": {
          "model_module": "@jupyter-widgets/controls",
          "model_name": "HBoxModel",
          "model_module_version": "1.5.0",
          "state": {
            "_dom_classes": [],
            "_model_module": "@jupyter-widgets/controls",
            "_model_module_version": "1.5.0",
            "_model_name": "HBoxModel",
            "_view_count": null,
            "_view_module": "@jupyter-widgets/controls",
            "_view_module_version": "1.5.0",
            "_view_name": "HBoxView",
            "box_style": "",
            "children": [
              "IPY_MODEL_031344138c74498daced04af8cc81e48",
              "IPY_MODEL_f32bc21cbe204366912039330c6aca38",
              "IPY_MODEL_f17e36fad0194aa99a26358c16e6277c"
            ],
            "layout": "IPY_MODEL_bd312ad1368841d8b3306c23a0136991"
          }
        },
        "031344138c74498daced04af8cc81e48": {
          "model_module": "@jupyter-widgets/controls",
          "model_name": "HTMLModel",
          "model_module_version": "1.5.0",
          "state": {
            "_dom_classes": [],
            "_model_module": "@jupyter-widgets/controls",
            "_model_module_version": "1.5.0",
            "_model_name": "HTMLModel",
            "_view_count": null,
            "_view_module": "@jupyter-widgets/controls",
            "_view_module_version": "1.5.0",
            "_view_name": "HTMLView",
            "description": "",
            "description_tooltip": null,
            "layout": "IPY_MODEL_e67490beffb14401861ceb0d9c4fdcda",
            "placeholder": "​",
            "style": "IPY_MODEL_52191f87ae82458c87816323f38b9814",
            "value": "100%"
          }
        },
        "f32bc21cbe204366912039330c6aca38": {
          "model_module": "@jupyter-widgets/controls",
          "model_name": "FloatProgressModel",
          "model_module_version": "1.5.0",
          "state": {
            "_dom_classes": [],
            "_model_module": "@jupyter-widgets/controls",
            "_model_module_version": "1.5.0",
            "_model_name": "FloatProgressModel",
            "_view_count": null,
            "_view_module": "@jupyter-widgets/controls",
            "_view_module_version": "1.5.0",
            "_view_name": "ProgressView",
            "bar_style": "success",
            "description": "",
            "description_tooltip": null,
            "layout": "IPY_MODEL_3a11dddcabf0403eb16633b60602bce7",
            "max": 62155,
            "min": 0,
            "orientation": "horizontal",
            "style": "IPY_MODEL_2b10b9c74a0949e9908bd632b94be0b5",
            "value": 62155
          }
        },
        "f17e36fad0194aa99a26358c16e6277c": {
          "model_module": "@jupyter-widgets/controls",
          "model_name": "HTMLModel",
          "model_module_version": "1.5.0",
          "state": {
            "_dom_classes": [],
            "_model_module": "@jupyter-widgets/controls",
            "_model_module_version": "1.5.0",
            "_model_name": "HTMLModel",
            "_view_count": null,
            "_view_module": "@jupyter-widgets/controls",
            "_view_module_version": "1.5.0",
            "_view_name": "HTMLView",
            "description": "",
            "description_tooltip": null,
            "layout": "IPY_MODEL_9c9d3effcb2d435096c2e4e0bba6fab5",
            "placeholder": "​",
            "style": "IPY_MODEL_69b265411214473b81aa608ca16153d3",
            "value": " 62155/62155 [00:09&lt;00:00, 6409.13it/s]"
          }
        },
        "bd312ad1368841d8b3306c23a0136991": {
          "model_module": "@jupyter-widgets/base",
          "model_name": "LayoutModel",
          "model_module_version": "1.2.0",
          "state": {
            "_model_module": "@jupyter-widgets/base",
            "_model_module_version": "1.2.0",
            "_model_name": "LayoutModel",
            "_view_count": null,
            "_view_module": "@jupyter-widgets/base",
            "_view_module_version": "1.2.0",
            "_view_name": "LayoutView",
            "align_content": null,
            "align_items": null,
            "align_self": null,
            "border": null,
            "bottom": null,
            "display": null,
            "flex": null,
            "flex_flow": null,
            "grid_area": null,
            "grid_auto_columns": null,
            "grid_auto_flow": null,
            "grid_auto_rows": null,
            "grid_column": null,
            "grid_gap": null,
            "grid_row": null,
            "grid_template_areas": null,
            "grid_template_columns": null,
            "grid_template_rows": null,
            "height": null,
            "justify_content": null,
            "justify_items": null,
            "left": null,
            "margin": null,
            "max_height": null,
            "max_width": null,
            "min_height": null,
            "min_width": null,
            "object_fit": null,
            "object_position": null,
            "order": null,
            "overflow": null,
            "overflow_x": null,
            "overflow_y": null,
            "padding": null,
            "right": null,
            "top": null,
            "visibility": null,
            "width": null
          }
        },
        "e67490beffb14401861ceb0d9c4fdcda": {
          "model_module": "@jupyter-widgets/base",
          "model_name": "LayoutModel",
          "model_module_version": "1.2.0",
          "state": {
            "_model_module": "@jupyter-widgets/base",
            "_model_module_version": "1.2.0",
            "_model_name": "LayoutModel",
            "_view_count": null,
            "_view_module": "@jupyter-widgets/base",
            "_view_module_version": "1.2.0",
            "_view_name": "LayoutView",
            "align_content": null,
            "align_items": null,
            "align_self": null,
            "border": null,
            "bottom": null,
            "display": null,
            "flex": null,
            "flex_flow": null,
            "grid_area": null,
            "grid_auto_columns": null,
            "grid_auto_flow": null,
            "grid_auto_rows": null,
            "grid_column": null,
            "grid_gap": null,
            "grid_row": null,
            "grid_template_areas": null,
            "grid_template_columns": null,
            "grid_template_rows": null,
            "height": null,
            "justify_content": null,
            "justify_items": null,
            "left": null,
            "margin": null,
            "max_height": null,
            "max_width": null,
            "min_height": null,
            "min_width": null,
            "object_fit": null,
            "object_position": null,
            "order": null,
            "overflow": null,
            "overflow_x": null,
            "overflow_y": null,
            "padding": null,
            "right": null,
            "top": null,
            "visibility": null,
            "width": null
          }
        },
        "52191f87ae82458c87816323f38b9814": {
          "model_module": "@jupyter-widgets/controls",
          "model_name": "DescriptionStyleModel",
          "model_module_version": "1.5.0",
          "state": {
            "_model_module": "@jupyter-widgets/controls",
            "_model_module_version": "1.5.0",
            "_model_name": "DescriptionStyleModel",
            "_view_count": null,
            "_view_module": "@jupyter-widgets/base",
            "_view_module_version": "1.2.0",
            "_view_name": "StyleView",
            "description_width": ""
          }
        },
        "3a11dddcabf0403eb16633b60602bce7": {
          "model_module": "@jupyter-widgets/base",
          "model_name": "LayoutModel",
          "model_module_version": "1.2.0",
          "state": {
            "_model_module": "@jupyter-widgets/base",
            "_model_module_version": "1.2.0",
            "_model_name": "LayoutModel",
            "_view_count": null,
            "_view_module": "@jupyter-widgets/base",
            "_view_module_version": "1.2.0",
            "_view_name": "LayoutView",
            "align_content": null,
            "align_items": null,
            "align_self": null,
            "border": null,
            "bottom": null,
            "display": null,
            "flex": null,
            "flex_flow": null,
            "grid_area": null,
            "grid_auto_columns": null,
            "grid_auto_flow": null,
            "grid_auto_rows": null,
            "grid_column": null,
            "grid_gap": null,
            "grid_row": null,
            "grid_template_areas": null,
            "grid_template_columns": null,
            "grid_template_rows": null,
            "height": null,
            "justify_content": null,
            "justify_items": null,
            "left": null,
            "margin": null,
            "max_height": null,
            "max_width": null,
            "min_height": null,
            "min_width": null,
            "object_fit": null,
            "object_position": null,
            "order": null,
            "overflow": null,
            "overflow_x": null,
            "overflow_y": null,
            "padding": null,
            "right": null,
            "top": null,
            "visibility": null,
            "width": null
          }
        },
        "2b10b9c74a0949e9908bd632b94be0b5": {
          "model_module": "@jupyter-widgets/controls",
          "model_name": "ProgressStyleModel",
          "model_module_version": "1.5.0",
          "state": {
            "_model_module": "@jupyter-widgets/controls",
            "_model_module_version": "1.5.0",
            "_model_name": "ProgressStyleModel",
            "_view_count": null,
            "_view_module": "@jupyter-widgets/base",
            "_view_module_version": "1.2.0",
            "_view_name": "StyleView",
            "bar_color": null,
            "description_width": ""
          }
        },
        "9c9d3effcb2d435096c2e4e0bba6fab5": {
          "model_module": "@jupyter-widgets/base",
          "model_name": "LayoutModel",
          "model_module_version": "1.2.0",
          "state": {
            "_model_module": "@jupyter-widgets/base",
            "_model_module_version": "1.2.0",
            "_model_name": "LayoutModel",
            "_view_count": null,
            "_view_module": "@jupyter-widgets/base",
            "_view_module_version": "1.2.0",
            "_view_name": "LayoutView",
            "align_content": null,
            "align_items": null,
            "align_self": null,
            "border": null,
            "bottom": null,
            "display": null,
            "flex": null,
            "flex_flow": null,
            "grid_area": null,
            "grid_auto_columns": null,
            "grid_auto_flow": null,
            "grid_auto_rows": null,
            "grid_column": null,
            "grid_gap": null,
            "grid_row": null,
            "grid_template_areas": null,
            "grid_template_columns": null,
            "grid_template_rows": null,
            "height": null,
            "justify_content": null,
            "justify_items": null,
            "left": null,
            "margin": null,
            "max_height": null,
            "max_width": null,
            "min_height": null,
            "min_width": null,
            "object_fit": null,
            "object_position": null,
            "order": null,
            "overflow": null,
            "overflow_x": null,
            "overflow_y": null,
            "padding": null,
            "right": null,
            "top": null,
            "visibility": null,
            "width": null
          }
        },
        "69b265411214473b81aa608ca16153d3": {
          "model_module": "@jupyter-widgets/controls",
          "model_name": "DescriptionStyleModel",
          "model_module_version": "1.5.0",
          "state": {
            "_model_module": "@jupyter-widgets/controls",
            "_model_module_version": "1.5.0",
            "_model_name": "DescriptionStyleModel",
            "_view_count": null,
            "_view_module": "@jupyter-widgets/base",
            "_view_module_version": "1.2.0",
            "_view_name": "StyleView",
            "description_width": ""
          }
        }
      }
    }
  },
  "nbformat": 4,
  "nbformat_minor": 0
}